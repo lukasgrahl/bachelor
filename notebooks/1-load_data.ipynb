{
 "cells": [
  {
   "cell_type": "code",
   "execution_count": 1,
   "id": "3aaf210f-4071-4ae2-9edc-c3892f33dfdb",
   "metadata": {},
   "outputs": [],
   "source": [
    "%run init_notebook.py"
   ]
  },
  {
   "cell_type": "code",
   "execution_count": 2,
   "id": "d501f3b5-f684-4593-82a7-9ce34ad23816",
   "metadata": {},
   "outputs": [],
   "source": [
    "import pandas as pd\n",
    "import numpy as np\n",
    "\n",
    "import os\n",
    "import datetime as dt\n",
    "from functools import wraps, reduce\n",
    "\n",
    "import matplotlib.pyplot as plt\n",
    "import seaborn as sns"
   ]
  },
  {
   "cell_type": "code",
   "execution_count": 3,
   "id": "bcb6e050-ecc3-4576-b203-896708322cb1",
   "metadata": {},
   "outputs": [],
   "source": [
    "from settings import RAW_DATA_DIR, WORK_DATA_DIR\n",
    "from utils.utils import *\n",
    "from utils.load import save_file, load_data\n",
    "from utils.cast_data import apply_datetime_format, apply_textmonth_to_nummonth, apply_date_to_week"
   ]
  },
  {
   "cell_type": "code",
   "execution_count": 4,
   "id": "960e1635-7db9-439e-82bd-ae0a520eca7c",
   "metadata": {},
   "outputs": [
    {
     "name": "stdout",
     "output_type": "stream",
     "text": [
      "Unknown columns found, columns were not casted\n",
      "['Date', 'vxoo', 'vxoh', 'vxol', 'vxo', 'vxno', 'vxnh', 'vxnl', 'vxn', 'vxdo', 'vxdh', 'vxdl']\n",
      "Exceptions were found\n",
      "[KeyError('Date'), KeyError('vxoo'), KeyError('vxoh'), KeyError('vxol'), KeyError('vxo'), KeyError('vxno'), KeyError('vxnh'), KeyError('vxnl'), KeyError('vxn'), KeyError('vxdo'), KeyError('vxdh'), KeyError('vxdl')]\n",
      "Unknown columns found, columns were not casted\n",
      "['Date', 'Standard Deviation', 'NAAIM Number']\n",
      "Exceptions were found\n",
      "[KeyError('Date'), KeyError('Standard Deviation'), KeyError('NAAIM Number')]\n",
      "Unknown columns found, columns were not casted\n",
      "['Unnamed: 0', 'Mkt-RF', 'SMB', 'HML', 'RMW', 'CMA', 'RF']\n",
      "Exceptions were found\n",
      "[KeyError('Unnamed: 0'), KeyError('Mkt-RF'), KeyError('SMB'), KeyError('HML'), KeyError('RMW'), KeyError('CMA'), KeyError('RF')]\n",
      "Unknown columns found, columns were not casted\n",
      "['Unnamed: 0', 'Mkt-RF', 'SMB', 'HML', 'RF']\n",
      "Exceptions were found\n",
      "[KeyError('Unnamed: 0'), KeyError('Mkt-RF'), KeyError('SMB'), KeyError('HML'), KeyError('RF')]\n",
      "Unknown columns found, columns were not casted\n",
      "['DATE', 'TEDRATE']\n",
      "Exceptions were found\n",
      "[KeyError('DATE'), KeyError('TEDRATE')]\n",
      "Unknown columns found, columns were not casted\n",
      "['Reported Date', 'Bullish', 'Neutral', 'Bearish', 'Bullish 8-week Mov Avg', 'Bull-Bear Spread', 'Bullish Average', 'Bullish Average +St. Dev.', 'Bullish Average - St. Dev.', 'S&P 500 Weekly High', 'S&P 500 Weekly Low', 'S&P 500 Weekly Close']\n",
      "Exceptions were found\n",
      "[KeyError('Reported Date'), KeyError('Bullish'), KeyError('Neutral'), KeyError('Bearish'), KeyError('Bullish 8-week Mov Avg'), KeyError('Bull-Bear Spread'), KeyError('Bullish Average'), KeyError('Bullish Average +St. Dev.'), KeyError('Bullish Average - St. Dev.'), KeyError('S&P 500 Weekly High'), KeyError('S&P 500 Weekly Low'), KeyError('S&P 500 Weekly Close')]\n",
      "Unknown columns found, columns were not casted\n",
      "['Date', 'Open', 'High', 'Low', 'Close*', 'Adj Close**', 'Volume']\n",
      "Exceptions were found\n",
      "[KeyError('Date'), KeyError('Open'), KeyError('High'), KeyError('Low'), KeyError('Close*'), KeyError('Adj Close**'), KeyError('Volume')]\n",
      "Unknown columns found, columns were not casted\n",
      "['Trade_date', 'P/C Ratio']\n",
      "Exceptions were found\n",
      "[KeyError('Trade_date'), KeyError('P/C Ratio')]\n",
      "Unknown columns found, columns were not casted\n",
      "['DATE', 'CALLS', 'PUTS', 'TOTAL', 'P/C Ratio']\n",
      "Exceptions were found\n",
      "[KeyError('DATE'), KeyError('CALLS'), KeyError('PUTS'), KeyError('TOTAL'), KeyError('P/C Ratio')]\n",
      "Unknown columns found, columns were not casted\n",
      "['Unnamed: 0', 'country', 'sentiment_combined']\n",
      "Exceptions were found\n",
      "[KeyError('Unnamed: 0'), KeyError('country'), KeyError('sentiment_combined')]\n"
     ]
    },
    {
     "data": {
      "text/plain": [
       "''"
      ]
     },
     "execution_count": 4,
     "metadata": {},
     "output_type": "execute_result"
    }
   ],
   "source": [
    "# load raw format\n",
    "fears = load_data(file_name=\"fears.csv\", file_path=RAW_DATA_DIR)\n",
    "\n",
    "cbeo_vix = load_data(file_name=\"cbeo_vix.csv\", file_path=RAW_DATA_DIR).rename(columns={\"Date\": \"date\"})\n",
    "cbeo_vix.drop_duplicates(\"date\", keep=\"last\", inplace=True)\n",
    "cbeo_vix.reset_index(drop=True, inplace=True)\n",
    "cbeo_vix.drop(['vxdh', 'vxd', 'vxdl', 'vxdo', 'vxn', 'vxnh', 'vxnl', 'vxno', 'vxo', 'vxoh', 'vxol', 'vxoo'], axis=1, inplace=True)\n",
    "\n",
    "naaim_risk = load_data(file_name=\"naaim_risk.xlsx\", file_path=RAW_DATA_DIR).rename(columns={\"Date\": \"date\",\n",
    "                                                                                            \"NAAIM Number\": \"naaim_ind\",\n",
    "                                                                                            \"Most Bearish Response\": \"naaim_max\",\n",
    "                                                                                            \"Quart 1 (25% at/below)\": \"naaim_q1\",\n",
    "                                                                                            \"Standard Deviation\": \"naaim_std\"}).iloc[:-4].sort_values(\"date\").reset_index(drop=True)\n",
    "naaim_risk = naaim_risk.loc[naaim_risk.date.drop_duplicates().index]\n",
    "\n",
    "ff_factors5 = load_data(file_name=\"ff_factors5.csv\", file_path=RAW_DATA_DIR, skiprows=3).add_prefix(\"ff_\").rename(columns={\"ff_Unnamed: 0\" : \"date\",\n",
    "                                                                                                                           \"ff_Mkt-RF\": \"ff_M_RF\"}).iloc[:-1]\n",
    "ff_factors3 = load_data(file_name=\"ff_factors3.csv\", file_path=RAW_DATA_DIR, skiprows=3).add_prefix(\"ff_\").add_suffix(\"_3\").rename(columns={\"ff_Unnamed: 0_3\" : \"date\",\n",
    "                                                                                                                                            \"ff_Mkt-RF_3\": \"ff_M_RF_3\"}).iloc[:-1]\n",
    "\n",
    "us_termspread = load_data(file_name=\"us_termspread.csv\", file_path=RAW_DATA_DIR).rename(columns={\"DATE\": \"date\", \"TEDRATE\": \"termspread\"})\n",
    "us_termspread[\"termspread\"] = us_termspread[\"termspread\"].replace({\".\" : np.nan})\n",
    "\n",
    "aaii_bull = load_data(file_name=\"aaii_bull.xlsx\", file_path=RAW_DATA_DIR, sheet_name=\"raw_data\").iloc[:, :10].add_prefix(\"aaii_\").rename(columns={\"aaii_Reported Date\": \"date\"})\n",
    "sp500 = load_data(file_name=\"sp500_yf.xlsx\", file_path=RAW_DATA_DIR, sheet_name=\"sp500\").add_prefix(\"sp_\").rename(columns=\n",
    "                                                                                                                  {\n",
    "                                                                                                                      \"sp_Date\": \"date\",\n",
    "                                                                                                                      \"sp_Volume\": \"sp_volume\",\n",
    "                                                                                                                      \"sp_Close*\": \"sp_close\",\n",
    "                                                                                                                      \"sp_Adj Close**\": \"sp_adj_close\"\n",
    "                                                                                                                  }\n",
    "                                                                                                                 ).sort_values(\"date\", ascending=True).reset_index(drop=True)\n",
    "\n",
    "pc1 = load_data(file_name=\"cboe_putcall_total_2003-2012.csv\", file_path=RAW_DATA_DIR, skiprows=2).rename(columns={\"Trade_date\": \"date\", \"P/C Ratio\": \"pc_ratio\"})\n",
    "pc2 = load_data(file_name=\"cboe_putcall_total_2006-2019.csv\", file_path=RAW_DATA_DIR, skiprows=2).rename(columns={\"DATE\": \"date\",\n",
    "                                                                                                        \"CALLS\": \"Call\",\n",
    "                                                                                                        \"PUTS\": \"Put\",\n",
    "                                                                                                        \"TOTAL\": \"Total\",\n",
    "                                                                                                        \"P/C Ratio\": \"pc_ratio\"})\n",
    "goog_sent = load_data(file_name=\"gog_sent.csv\", file_path=RAW_DATA_DIR)\n",
    "goog_sent = goog_sent[goog_sent.country==\"United States\"].drop([\"Unnamed: 0\", \"country\"], axis=1).rename(columns={\"sentiment_combined\": \"goog_sent\",\n",
    "                                                                                                                  \"week\": \"date\"}).reset_index(drop=True)\n",
    ";"
   ]
  },
  {
   "cell_type": "code",
   "execution_count": 9,
   "id": "d76e52a1-48ae-4baf-8fc4-d79c042e7bfb",
   "metadata": {},
   "outputs": [],
   "source": [
    "# create cast_dict\n",
    "_ = list(fears.columns)\n",
    "_.extend(list(cbeo_vix.columns))\n",
    "_.extend(list(naaim_risk.columns))\n",
    "_.extend(list(ff_factors3.columns))\n",
    "_.extend(list(ff_factors5.columns))\n",
    "_.extend(list(us_termspread.columns))\n",
    "_.extend(list(pc1.columns))\n",
    "_.extend(list(aaii_bull.columns))\n",
    "_.extend(list(sp500.columns))\n",
    "_.extend(list(goog_sent.columns))\n",
    "\n",
    "_ = list(set(_))\n",
    "_.sort()\n",
    "# {item: float for item in _}"
   ]
  },
  {
   "cell_type": "code",
   "execution_count": 10,
   "id": "0d0aa431-a2e6-4f6b-95f7-c7c8564fa32e",
   "metadata": {},
   "outputs": [],
   "source": [
    "# save files in feather format\n",
    "save_file(fears, file_name=\"fears.csv\", file_path=WORK_DATA_DIR, index=False)\n",
    "save_file(cbeo_vix, file_name=\"cbeo_vix.csv\", file_path=WORK_DATA_DIR, index=False)\n",
    "save_file(naaim_risk, file_name=\"naaim_risk.csv\", file_path=WORK_DATA_DIR, index=False)\n",
    "save_file(ff_factors5, file_name=\"ff_factors5.csv\", file_path=WORK_DATA_DIR, index=False)\n",
    "save_file(ff_factors3, file_name=\"ff_factors3.csv\", file_path=WORK_DATA_DIR, index=False)\n",
    "save_file(us_termspread, file_name=\"us_termspread.csv\", file_path=WORK_DATA_DIR, index=False)\n",
    "save_file(pc1, file_name=\"put_call1.csv\", file_path=WORK_DATA_DIR, index=False)\n",
    "save_file(pc2, file_name=\"put_call2.csv\", file_path=WORK_DATA_DIR, index=False)\n",
    "save_file(aaii_bull, file_name=\"aaii_bull.csv\", file_path=WORK_DATA_DIR, index=False)\n",
    "save_file(sp500, file_name=\"sp500.csv\", file_path=WORK_DATA_DIR, index=False)\n",
    "save_file(goog_sent, file_name=\"goog_sent.csv\", file_path=WORK_DATA_DIR, index=False)"
   ]
  },
  {
   "cell_type": "markdown",
   "id": "ca1f34de-0ac7-4ce4-a4e3-0a6714ba2200",
   "metadata": {},
   "source": [
    "Load data files"
   ]
  },
  {
   "cell_type": "code",
   "execution_count": 11,
   "id": "fa8998cf-d8a6-4278-af1a-e18d38845583",
   "metadata": {},
   "outputs": [],
   "source": [
    "fears = load_data(file_name=\"fears.csv\", file_path=WORK_DATA_DIR)\n",
    "cbeo_vix = load_data(file_name=\"cbeo_vix.csv\", file_path=WORK_DATA_DIR)\n",
    "naaim_risk = load_data(file_name=\"naaim_risk.csv\", file_path=WORK_DATA_DIR)\n",
    "ff_factors5 = load_data(file_name=\"ff_factors5.csv\", file_path=WORK_DATA_DIR)\n",
    "ff_factors3 = load_data(file_name=\"ff_factors3.csv\", file_path=WORK_DATA_DIR)\n",
    "us_termspread = load_data(file_name=\"us_termspread.csv\", file_path=WORK_DATA_DIR)\n",
    "put_call1 = load_data(file_name=\"put_call1.csv\", file_path=WORK_DATA_DIR)\n",
    "put_call2 = load_data(file_name=\"put_call2.csv\", file_path=WORK_DATA_DIR)\n",
    "aaii_bull = load_data(file_name=\"aaii_bull.csv\", file_path=WORK_DATA_DIR)\n",
    "sp500 = load_data(file_name=\"sp500.csv\", file_path=WORK_DATA_DIR)\n",
    "goog_sent = load_data(file_name=\"goog_sent.csv\", file_path=WORK_DATA_DIR, europe_time_slash=True)\n",
    "\n",
    "put_call = pd.concat([put_call1,\n",
    "                      put_call2.set_index(\"date\").loc[put_call1.iloc[-1].date:].iloc[1:].reset_index()],\n",
    "                     axis=0).reset_index(drop=True)"
   ]
  },
  {
   "cell_type": "code",
   "execution_count": 12,
   "id": "a19d17d9-12d6-46e3-aad6-996825f2efe7",
   "metadata": {},
   "outputs": [],
   "source": [
    "data_dict = {}\n",
    "data_dict.update(\n",
    "    {\n",
    "        \"data\": {\n",
    "            \"df_cols\" : \n",
    "            {\n",
    "                \"fears\": list(fears.drop(\"date\", axis=1).columns),\n",
    "                \"cbeo_vix\": list(cbeo_vix.drop(\"date\", axis=1).columns),\n",
    "                \"naaim_risk\": list(naaim_risk.drop(\"date\", axis=1).columns),\n",
    "                \"ff_factors5\": list(ff_factors5.drop(\"date\", axis=1).columns),\n",
    "                \"termspread\": list(us_termspread.drop(\"date\", axis=1).columns),\n",
    "                \"put_call\": list(put_call.drop(\"date\", axis=1).columns),\n",
    "                \"aaii_bull\": list(aaii_bull.drop(\"date\", axis=1).columns),\n",
    "                \"sp500\": list(sp500.drop(\"date\", axis=1).columns),\n",
    "                \"goog_sent\": list(goog_sent.drop(\"date\", axis=1).columns)\n",
    "            }\n",
    "        },\n",
    "        \"data_transformation\": {},\n",
    "        \"data_stests\": {},\n",
    "        \"model_features\": {},\n",
    "        \"model_metrics\": {},\n",
    "    }\n",
    ")\n",
    "\n",
    "dict_df = dict(zip( [\"fears\", \"cbeo_vix\", \"naaim_risk\", \"ff_factors3\", \"ff_factors5\", \"us_termspread\", \"put_call\", \"aaii_bull\", \"sp500\", \"goog_sent\"],\n",
    "                   [fears, cbeo_vix, naaim_risk, ff_factors3, ff_factors5, us_termspread, put_call, aaii_bull, sp500, goog_sent]))"
   ]
  },
  {
   "cell_type": "markdown",
   "id": "30b30901-d18c-4aea-88e0-07e794e63a80",
   "metadata": {},
   "source": [
    "Week overview"
   ]
  },
  {
   "cell_type": "code",
   "execution_count": 13,
   "id": "31213f68-b65b-4fce-b5cb-28ab11723496",
   "metadata": {},
   "outputs": [
    {
     "data": {
      "text/html": [
       "<div>\n",
       "<style scoped>\n",
       "    .dataframe tbody tr th:only-of-type {\n",
       "        vertical-align: middle;\n",
       "    }\n",
       "\n",
       "    .dataframe tbody tr th {\n",
       "        vertical-align: top;\n",
       "    }\n",
       "\n",
       "    .dataframe thead th {\n",
       "        text-align: right;\n",
       "    }\n",
       "</style>\n",
       "<table border=\"1\" class=\"dataframe\">\n",
       "  <thead>\n",
       "    <tr style=\"text-align: right;\">\n",
       "      <th></th>\n",
       "      <th>min</th>\n",
       "      <th>max</th>\n",
       "      <th>days</th>\n",
       "      <th>weeks</th>\n",
       "      <th>days_perc</th>\n",
       "      <th>week_or_day</th>\n",
       "    </tr>\n",
       "  </thead>\n",
       "  <tbody>\n",
       "    <tr>\n",
       "      <th>fears</th>\n",
       "      <td>2004-07-01</td>\n",
       "      <td>2011-12-30</td>\n",
       "      <td>2738</td>\n",
       "      <td>391</td>\n",
       "      <td>0.690650</td>\n",
       "      <td>1.448677</td>\n",
       "    </tr>\n",
       "    <tr>\n",
       "      <th>cbeo_vix</th>\n",
       "      <td>1990-01-02</td>\n",
       "      <td>2021-09-30</td>\n",
       "      <td>11594</td>\n",
       "      <td>1656</td>\n",
       "      <td>0.690271</td>\n",
       "      <td>1.448888</td>\n",
       "    </tr>\n",
       "    <tr>\n",
       "      <th>naaim_risk</th>\n",
       "      <td>2006-08-02</td>\n",
       "      <td>2022-02-16</td>\n",
       "      <td>5677</td>\n",
       "      <td>811</td>\n",
       "      <td>0.142857</td>\n",
       "      <td>7.008642</td>\n",
       "    </tr>\n",
       "    <tr>\n",
       "      <th>ff_factors3</th>\n",
       "      <td>1926-07-01</td>\n",
       "      <td>2021-12-31</td>\n",
       "      <td>34882</td>\n",
       "      <td>4983</td>\n",
       "      <td>0.720945</td>\n",
       "      <td>1.387124</td>\n",
       "    </tr>\n",
       "    <tr>\n",
       "      <th>ff_factors5</th>\n",
       "      <td>1963-07-01</td>\n",
       "      <td>2021-12-30</td>\n",
       "      <td>21367</td>\n",
       "      <td>3052</td>\n",
       "      <td>0.689240</td>\n",
       "      <td>1.450971</td>\n",
       "    </tr>\n",
       "    <tr>\n",
       "      <th>us_termspread</th>\n",
       "      <td>1986-01-02</td>\n",
       "      <td>2022-01-21</td>\n",
       "      <td>13168</td>\n",
       "      <td>1881</td>\n",
       "      <td>0.714383</td>\n",
       "      <td>1.399957</td>\n",
       "    </tr>\n",
       "    <tr>\n",
       "      <th>put_call</th>\n",
       "      <td>2003-10-17</td>\n",
       "      <td>2019-10-04</td>\n",
       "      <td>5831</td>\n",
       "      <td>833</td>\n",
       "      <td>0.689076</td>\n",
       "      <td>1.451581</td>\n",
       "    </tr>\n",
       "    <tr>\n",
       "      <th>aaii_bull</th>\n",
       "      <td>1987-07-23</td>\n",
       "      <td>2022-01-05</td>\n",
       "      <td>12585</td>\n",
       "      <td>1798</td>\n",
       "      <td>0.142789</td>\n",
       "      <td>7.007238</td>\n",
       "    </tr>\n",
       "    <tr>\n",
       "      <th>sp500</th>\n",
       "      <td>1990-01-02</td>\n",
       "      <td>2021-12-30</td>\n",
       "      <td>11685</td>\n",
       "      <td>1669</td>\n",
       "      <td>0.690030</td>\n",
       "      <td>1.449392</td>\n",
       "    </tr>\n",
       "    <tr>\n",
       "      <th>goog_sent</th>\n",
       "      <td>2004-07-05</td>\n",
       "      <td>2014-12-22</td>\n",
       "      <td>3822</td>\n",
       "      <td>546</td>\n",
       "      <td>0.143119</td>\n",
       "      <td>7.000000</td>\n",
       "    </tr>\n",
       "  </tbody>\n",
       "</table>\n",
       "</div>"
      ],
      "text/plain": [
       "                      min         max   days  weeks  days_perc  week_or_day\n",
       "fears          2004-07-01  2011-12-30   2738    391   0.690650     1.448677\n",
       "cbeo_vix       1990-01-02  2021-09-30  11594   1656   0.690271     1.448888\n",
       "naaim_risk     2006-08-02  2022-02-16   5677    811   0.142857     7.008642\n",
       "ff_factors3    1926-07-01  2021-12-31  34882   4983   0.720945     1.387124\n",
       "ff_factors5    1963-07-01  2021-12-30  21367   3052   0.689240     1.450971\n",
       "us_termspread  1986-01-02  2022-01-21  13168   1881   0.714383     1.399957\n",
       "put_call       2003-10-17  2019-10-04   5831    833   0.689076     1.451581\n",
       "aaii_bull      1987-07-23  2022-01-05  12585   1798   0.142789     7.007238\n",
       "sp500          1990-01-02  2021-12-30  11685   1669   0.690030     1.449392\n",
       "goog_sent      2004-07-05  2014-12-22   3822    546   0.143119     7.000000"
      ]
     },
     "execution_count": 13,
     "metadata": {},
     "output_type": "execute_result"
    }
   ],
   "source": [
    "get_df_time_overview_report(dict_df)"
   ]
  },
  {
   "cell_type": "code",
   "execution_count": 14,
   "id": "83a8c297-6017-45b2-90fd-fb482648d4eb",
   "metadata": {},
   "outputs": [],
   "source": [
    "aaii_bull[\"week\"] = aaii_bull.date.apply(lambda x: apply_date_to_week(x))\n",
    "naaim_risk[\"week\"] = naaim_risk.date.apply(lambda x: apply_date_to_week(x))\n",
    "goog_sent[\"week\"] = goog_sent.date.apply(lambda x: apply_date_to_week(x))\n",
    "\n",
    "# drop week duplicates\n",
    "naaim_risk.drop_duplicates(\"week\", inplace=True)\n",
    "aaii_bull.drop_duplicates(\"week\", inplace=True)\n",
    "goog_sent.drop_duplicates(\"week\", inplace=True)\n",
    "\n",
    "# update data dict with new date cols\n",
    "# data_dict[\"data_cols\"].update(goog_sent=data_dict[\"data_cols\"][\"goog_sent\"] + [\"date_goog\"])\n",
    "# data_dict[\"data_cols\"].update(naaim_risk=data_dict[\"data_cols\"][\"naaim_risk\"] + [\"date_naaim\"])\n",
    "# data_dict[\"data_cols\"].update(aaii_bull=data_dict[\"data_cols\"][\"aaii_bull\"] + [\"date_aaii\"])"
   ]
  },
  {
   "cell_type": "code",
   "execution_count": 15,
   "id": "704f50e1-1273-4975-9e6d-8be3aa5a19b3",
   "metadata": {},
   "outputs": [
    {
     "name": "stdout",
     "output_type": "stream",
     "text": [
      "3    1769\n",
      "2      28\n",
      "Name: date, dtype: int64\n",
      "2    811\n",
      "Name: date, dtype: int64\n",
      "0    547\n",
      "Name: date, dtype: int64\n"
     ]
    }
   ],
   "source": [
    "# checking weekday of prediction\n",
    "# prediction are out thursday latest, thus first prediction can be fridays\n",
    "print(is_day(aaii_bull.date).value_counts())\n",
    "print(is_day(naaim_risk.date).value_counts())\n",
    "print(is_day(goog_sent.date).value_counts())"
   ]
  },
  {
   "cell_type": "code",
   "execution_count": 16,
   "id": "7e5bc149-173d-4677-8609-6a545ba170b5",
   "metadata": {},
   "outputs": [],
   "source": [
    "# merge weekly data\n",
    "data_frames = [aaii_bull.drop(\"date\", axis=1), #.rename(columns={\"date\": \"date_aaii\"}),\n",
    "               goog_sent.drop(\"date\", axis=1), #.rename(columns={\"date\": \"date_goog\"}),\n",
    "               naaim_risk.drop(\"date\", axis=1), #.rename(columns={\"date\": \"date_naaim\"})\n",
    "              ]\n",
    "\n",
    "df_sub = reduce(lambda  left,right: pd.merge(left,right,on=['week'],\n",
    "                                            how='outer'), data_frames)"
   ]
  },
  {
   "cell_type": "code",
   "execution_count": 17,
   "id": "763e28ca-ba6f-4147-852e-7dc51ae87692",
   "metadata": {},
   "outputs": [],
   "source": [
    "# merge daily and weekly data\n",
    "df = pd.DataFrame(datetime_range(start=dt.date(1990, 1, 2), end=dt.date(2021, 12, 31)), columns=[\"date\"])\n",
    "\n",
    "df_list = [\n",
    "    df,\n",
    "    sp500,\n",
    "    cbeo_vix,\n",
    "    fears,\n",
    "    ff_factors5,\n",
    "    us_termspread,\n",
    "    put_call\n",
    "]\n",
    "\n",
    "df = reduce(lambda  left,right: pd.merge(left,\n",
    "                                                right,\n",
    "                                                on=['date'],\n",
    "                                                how='left'),\n",
    "                   df_list)\n",
    "\n",
    "df[\"week\"] = df.date.apply(lambda x: apply_date_to_week(x))\n",
    "\n",
    "df = pd.merge(df,\n",
    "         df_sub,\n",
    "         on=\"week\",\n",
    "         how=\"left\")\n",
    "df[\"weekday\"] = is_day(df.date)\n",
    "df[\"is_thu\"] = is_day(df.date, day=\"Thu\")\n",
    "\n",
    "df = df[~df.sp_close.isna()]"
   ]
  },
  {
   "cell_type": "code",
   "execution_count": 18,
   "id": "6ff0f917-430e-43ef-a89c-8f7091b6f465",
   "metadata": {},
   "outputs": [],
   "source": [
    "df, _ = shift_var_relative_to_df(df, \"sp_close\", no_lags=[-4, -3, -2, -1, 1, 2, 3, 4, 5, 6, 7, 8, 9, 10])"
   ]
  },
  {
   "cell_type": "code",
   "execution_count": 19,
   "id": "a9a2fb46-a084-41d9-bb31-89ed67985192",
   "metadata": {},
   "outputs": [],
   "source": [
    "drop_cols = data_dict[\"data\"][\"df_cols\"][\"fears\"] + data_dict[\"data\"][\"df_cols\"][\"goog_sent\"]"
   ]
  },
  {
   "cell_type": "code",
   "execution_count": 20,
   "id": "bd6982d4-e871-42df-accc-2e7238447bdf",
   "metadata": {},
   "outputs": [],
   "source": [
    "df_w = cut_to_weekly_data(df.drop(drop_cols, axis=1), \"is_thu\")"
   ]
  },
  {
   "cell_type": "code",
   "execution_count": 22,
   "id": "aee4f182-c521-4f91-a81c-2e31c955c845",
   "metadata": {},
   "outputs": [
    {
     "data": {
      "text/plain": [
       "(8063, 61)"
      ]
     },
     "execution_count": 22,
     "metadata": {},
     "output_type": "execute_result"
    }
   ],
   "source": [
    "df.shape"
   ]
  },
  {
   "cell_type": "markdown",
   "id": "10467f67-852e-4500-aa3b-5203923c0276",
   "metadata": {},
   "source": [
    "Save files"
   ]
  },
  {
   "cell_type": "code",
   "execution_count": 23,
   "id": "f470aa9f-5a7a-4076-b9ca-f7872c63a85d",
   "metadata": {},
   "outputs": [],
   "source": [
    "save_file(data_dict, \"merged_data_dict.pkl\", WORK_DATA_DIR)"
   ]
  },
  {
   "cell_type": "code",
   "execution_count": 24,
   "id": "aed53aa6-e1f8-43bd-b4a8-144e6c4097b5",
   "metadata": {},
   "outputs": [],
   "source": [
    "save_file(df, file_name=\"merged_data.csv\", file_path=WORK_DATA_DIR, index=False)"
   ]
  },
  {
   "cell_type": "code",
   "execution_count": null,
   "id": "05e8b445-a49d-4b17-a195-055101cdf225",
   "metadata": {},
   "outputs": [],
   "source": []
  },
  {
   "cell_type": "code",
   "execution_count": null,
   "id": "6cab829d-da86-4142-b843-71287154290c",
   "metadata": {},
   "outputs": [],
   "source": []
  }
 ],
 "metadata": {
  "kernelspec": {
   "display_name": "bachelor_env",
   "language": "python",
   "name": "bachelor_env"
  },
  "language_info": {
   "codemirror_mode": {
    "name": "ipython",
    "version": 3
   },
   "file_extension": ".py",
   "mimetype": "text/x-python",
   "name": "python",
   "nbconvert_exporter": "python",
   "pygments_lexer": "ipython3",
   "version": "3.9.4"
  }
 },
 "nbformat": 4,
 "nbformat_minor": 5
}
