{
 "cells": [
  {
   "cell_type": "code",
   "execution_count": 1,
   "id": "07be2f42-db5b-4210-bacd-72bb2c62a030",
   "metadata": {},
   "outputs": [],
   "source": [
    "%run init_notebook.py"
   ]
  },
  {
   "cell_type": "code",
   "execution_count": 2,
   "id": "b29cd854-eea4-4d93-a3a6-1540b1737089",
   "metadata": {},
   "outputs": [],
   "source": [
    "import pandas as pd\n",
    "import numpy as np\n",
    "\n",
    "import os\n",
    "\n",
    "import matplotlib.pyplot as plt\n",
    "import seaborn as sns"
   ]
  },
  {
   "cell_type": "code",
   "execution_count": 3,
   "id": "512ea178-3cc2-47bf-a378-86bbce156b61",
   "metadata": {},
   "outputs": [],
   "source": [
    "from settings import OUT_MODEL_DIR\n",
    "from utils.load import load_data, save_file"
   ]
  },
  {
   "cell_type": "code",
   "execution_count": 4,
   "id": "26d61f00-6639-46b8-89ba-d6592c82fdfb",
   "metadata": {},
   "outputs": [],
   "source": [
    "# directory overview"
   ]
  },
  {
   "cell_type": "code",
   "execution_count": 5,
   "id": "cdb7394f-2677-4bd8-9ab2-78237beb05b7",
   "metadata": {},
   "outputs": [],
   "source": [
    "def get_model_list(path):\n",
    "    dir_list = os.listdir(OUT_MODEL_DIR)\n",
    "    dir_ist = [item for item in dir_list if '.' not in item or item == \"archive\"]\n",
    "    dir_list = [item for item in dir_list if item != \"archive\"]\n",
    "    return dir_list"
   ]
  },
  {
   "cell_type": "code",
   "execution_count": 6,
   "id": "979c0fc9-3634-42ae-8574-9a1b012daeb2",
   "metadata": {},
   "outputs": [
    {
     "data": {
      "text/plain": [
       "['lgb_8055_years2021_2011_sp_close_lead1_sentFalse',\n",
       " 'lgb_8055_years2021_2015_sp_close_lead1_sentFalse',\n",
       " 'lgb_8055_years2021_2018_sp_close_lead1_sentFalse',\n",
       " 'lgb_8055_years2021_2019_sp_close_lead1_sentFalse',\n",
       " 'ols_8055_years2021_2011_sp_close_lead1_sentFalse',\n",
       " 'ols_8055_years2021_2015_sp_close_lead1_sentFalse',\n",
       " 'ols_8055_years2021_2018_sp_close_lead1_sentFalse',\n",
       " 'ols_8055_years2021_2019_sp_close_lead1_sentFalse']"
      ]
     },
     "execution_count": 6,
     "metadata": {},
     "output_type": "execute_result"
    }
   ],
   "source": [
    "get_model_list(OUT_MODEL_DIR)"
   ]
  },
  {
   "cell_type": "code",
   "execution_count": 7,
   "id": "7b8f6b9b-a6e2-498b-a26c-fbd868078749",
   "metadata": {},
   "outputs": [],
   "source": [
    "def get_model_dict(path,\n",
    "                   dict_file_end: str = '_data_dict.pkl'):\n",
    "    dir_list = os.listdir(path)\n",
    "    dict_name = [item for item in dir_list if dict_file_end in item]\n",
    "    \n",
    "    if len(dict_name) > 1:\n",
    "        dict_name = dict_name[-1]\n",
    "    else:\n",
    "        dict_name = dict_name[0]\n",
    "    \n",
    "    file = load_data(file_name=dict_name, file_path=path)\n",
    "    return file    "
   ]
  },
  {
   "cell_type": "code",
   "execution_count": 8,
   "id": "032e104c-437a-4e15-9d58-89020420618f",
   "metadata": {},
   "outputs": [],
   "source": [
    "_ = get_model_dict(os.path.join(OUT_MODEL_DIR, \"ols_8055_years2021_2011_sp_close_lead1_sentFalse\"));"
   ]
  },
  {
   "cell_type": "code",
   "execution_count": 9,
   "id": "0c909f26-0860-4edf-b242-0d70e37885a5",
   "metadata": {},
   "outputs": [],
   "source": [
    "class ModelMetrics:\n",
    "    \n",
    "    def __init__(self,\n",
    "                 dict_):\n",
    "        self._metrics = dict_[\"model_metrics\"]\n",
    "        \n",
    "        self.model_type = self._metrics[\"model_type\"]\n",
    "        self.predicted = dict_[\"model_features\"][\"predicted\"]\n",
    "        self.data_len = self._metrics[\"data_len\"]\n",
    "        self.is_sent = self._metrics[\"is_sent\"]\n",
    "        self.week_day = self._metrics[\"week_day\"]\n",
    "        self.year_spread = self._metrics[\"year_spread\"]\n",
    "        self.rmse = self._metrics[\"rmse\"]\n",
    "        self.mse = self._metrics[\"mse\"]\n",
    "        self.mae = self._metrics[\"mae\"]\n",
    "        self.r2 = self._metrics[\"r2\"]\n",
    "        pass"
   ]
  },
  {
   "cell_type": "code",
   "execution_count": 10,
   "id": "3b73e2a7-fa8b-4970-a556-f2ce9a8eeaeb",
   "metadata": {},
   "outputs": [],
   "source": [
    "def get_metrics_overview(model_list: list):\n",
    "    \n",
    "    model_type = []\n",
    "    predicted = []\n",
    "    data_len = []\n",
    "    is_sent = []\n",
    "    week_day = []\n",
    "    year_spread = []\n",
    "    rmse = []\n",
    "    mse = []\n",
    "    mae = []\n",
    "    r2 = []\n",
    "    col_name = []\n",
    "    for i, item in enumerate(model_list):\n",
    "        model_type.append(item.model_type)\n",
    "        predicted.append(item.predicted)\n",
    "        data_len.append(item.data_len)\n",
    "        is_sent.append(item.is_sent)\n",
    "        week_day.append(item.week_day)\n",
    "        year_spread.append(item.year_spread)\n",
    "        rmse.append(item.rmse)\n",
    "        mse.append(item.mse)\n",
    "        mae.append(item.mae)\n",
    "        r2.append(item.r2)\n",
    "        col_name.append(f'model_{i}')\n",
    "    \n",
    "    df = pd.DataFrame([model_type,\n",
    "                       predicted,\n",
    "                       data_len,\n",
    "                       is_sent,\n",
    "                       week_day,\n",
    "                       year_spread,\n",
    "                       rmse,\n",
    "                       mse,\n",
    "                       mae,\n",
    "                       r2],\n",
    "                     index=[\"model_type\", \"predicted\", \"data_len\", \"is_sent\", 'week_day', 'year_spread', 'rmse', \"mse\", \"mae\", \"r2\"])\n",
    "    \n",
    "    return df.transpose()\n",
    "        \n",
    "        "
   ]
  },
  {
   "cell_type": "code",
   "execution_count": 11,
   "id": "5f23a0c1-6b64-49f1-8118-ed5e1bd81a56",
   "metadata": {},
   "outputs": [],
   "source": [
    "model_list = []\n",
    "for item in get_model_list(OUT_MODEL_DIR):\n",
    "    model_list.append(ModelMetrics(get_model_dict(os.path.join(OUT_MODEL_DIR, item))))\n",
    "df = get_metrics_overview(model_list)"
   ]
  },
  {
   "cell_type": "code",
   "execution_count": 12,
   "id": "5b3128a5-da9a-4e38-a1dc-6d910a5379c9",
   "metadata": {},
   "outputs": [
    {
     "data": {
      "text/html": [
       "<div>\n",
       "<style scoped>\n",
       "    .dataframe tbody tr th:only-of-type {\n",
       "        vertical-align: middle;\n",
       "    }\n",
       "\n",
       "    .dataframe tbody tr th {\n",
       "        vertical-align: top;\n",
       "    }\n",
       "\n",
       "    .dataframe thead th {\n",
       "        text-align: right;\n",
       "    }\n",
       "</style>\n",
       "<table border=\"1\" class=\"dataframe\">\n",
       "  <thead>\n",
       "    <tr style=\"text-align: right;\">\n",
       "      <th></th>\n",
       "      <th>model_type</th>\n",
       "      <th>predicted</th>\n",
       "      <th>data_len</th>\n",
       "      <th>is_sent</th>\n",
       "      <th>week_day</th>\n",
       "      <th>year_spread</th>\n",
       "      <th>rmse</th>\n",
       "      <th>mse</th>\n",
       "      <th>mae</th>\n",
       "      <th>r2</th>\n",
       "    </tr>\n",
       "  </thead>\n",
       "  <tbody>\n",
       "    <tr>\n",
       "      <th>0</th>\n",
       "      <td>lgb</td>\n",
       "      <td>sp_close_lead1</td>\n",
       "      <td>8055</td>\n",
       "      <td>False</td>\n",
       "      <td>daily</td>\n",
       "      <td>years2021_2011</td>\n",
       "      <td>0.016647</td>\n",
       "      <td>0.000277</td>\n",
       "      <td>0.010146</td>\n",
       "      <td>-0.108105</td>\n",
       "    </tr>\n",
       "    <tr>\n",
       "      <th>1</th>\n",
       "      <td>lgb</td>\n",
       "      <td>sp_close_lead1</td>\n",
       "      <td>8055</td>\n",
       "      <td>False</td>\n",
       "      <td>daily</td>\n",
       "      <td>years2021_2015</td>\n",
       "      <td>0.011044</td>\n",
       "      <td>0.000122</td>\n",
       "      <td>0.00838</td>\n",
       "      <td>-0.459737</td>\n",
       "    </tr>\n",
       "    <tr>\n",
       "      <th>2</th>\n",
       "      <td>lgb</td>\n",
       "      <td>sp_close_lead1</td>\n",
       "      <td>8055</td>\n",
       "      <td>False</td>\n",
       "      <td>daily</td>\n",
       "      <td>years2021_2018</td>\n",
       "      <td>0.009331</td>\n",
       "      <td>0.000087</td>\n",
       "      <td>0.007307</td>\n",
       "      <td>-0.482434</td>\n",
       "    </tr>\n",
       "    <tr>\n",
       "      <th>3</th>\n",
       "      <td>lgb</td>\n",
       "      <td>sp_close_lead1</td>\n",
       "      <td>8055</td>\n",
       "      <td>False</td>\n",
       "      <td>daily</td>\n",
       "      <td>years2021_2019</td>\n",
       "      <td>0.009283</td>\n",
       "      <td>0.000086</td>\n",
       "      <td>0.007087</td>\n",
       "      <td>-0.503174</td>\n",
       "    </tr>\n",
       "    <tr>\n",
       "      <th>4</th>\n",
       "      <td>ols</td>\n",
       "      <td>sp_close_lead1</td>\n",
       "      <td>8055</td>\n",
       "      <td>False</td>\n",
       "      <td>daily</td>\n",
       "      <td>years2021_2011</td>\n",
       "      <td>0.017885</td>\n",
       "      <td>0.00032</td>\n",
       "      <td>0.010533</td>\n",
       "      <td>-0.58179</td>\n",
       "    </tr>\n",
       "    <tr>\n",
       "      <th>5</th>\n",
       "      <td>ols</td>\n",
       "      <td>sp_close_lead1</td>\n",
       "      <td>8055</td>\n",
       "      <td>False</td>\n",
       "      <td>daily</td>\n",
       "      <td>years2021_2015</td>\n",
       "      <td>0.015755</td>\n",
       "      <td>0.000248</td>\n",
       "      <td>0.010017</td>\n",
       "      <td>0.051838</td>\n",
       "    </tr>\n",
       "    <tr>\n",
       "      <th>6</th>\n",
       "      <td>ols</td>\n",
       "      <td>sp_close_lead1</td>\n",
       "      <td>8055</td>\n",
       "      <td>False</td>\n",
       "      <td>daily</td>\n",
       "      <td>years2021_2018</td>\n",
       "      <td>0.017911</td>\n",
       "      <td>0.000321</td>\n",
       "      <td>0.013585</td>\n",
       "      <td>-3.312626</td>\n",
       "    </tr>\n",
       "    <tr>\n",
       "      <th>7</th>\n",
       "      <td>ols</td>\n",
       "      <td>sp_close_lead1</td>\n",
       "      <td>8055</td>\n",
       "      <td>False</td>\n",
       "      <td>daily</td>\n",
       "      <td>years2021_2019</td>\n",
       "      <td>0.016998</td>\n",
       "      <td>0.000289</td>\n",
       "      <td>0.012875</td>\n",
       "      <td>-3.48725</td>\n",
       "    </tr>\n",
       "  </tbody>\n",
       "</table>\n",
       "</div>"
      ],
      "text/plain": [
       "  model_type       predicted data_len is_sent week_day     year_spread  \\\n",
       "0        lgb  sp_close_lead1     8055   False    daily  years2021_2011   \n",
       "1        lgb  sp_close_lead1     8055   False    daily  years2021_2015   \n",
       "2        lgb  sp_close_lead1     8055   False    daily  years2021_2018   \n",
       "3        lgb  sp_close_lead1     8055   False    daily  years2021_2019   \n",
       "4        ols  sp_close_lead1     8055   False    daily  years2021_2011   \n",
       "5        ols  sp_close_lead1     8055   False    daily  years2021_2015   \n",
       "6        ols  sp_close_lead1     8055   False    daily  years2021_2018   \n",
       "7        ols  sp_close_lead1     8055   False    daily  years2021_2019   \n",
       "\n",
       "       rmse       mse       mae        r2  \n",
       "0  0.016647  0.000277  0.010146 -0.108105  \n",
       "1  0.011044  0.000122   0.00838 -0.459737  \n",
       "2  0.009331  0.000087  0.007307 -0.482434  \n",
       "3  0.009283  0.000086  0.007087 -0.503174  \n",
       "4  0.017885   0.00032  0.010533  -0.58179  \n",
       "5  0.015755  0.000248  0.010017  0.051838  \n",
       "6  0.017911  0.000321  0.013585 -3.312626  \n",
       "7  0.016998  0.000289  0.012875  -3.48725  "
      ]
     },
     "execution_count": 12,
     "metadata": {},
     "output_type": "execute_result"
    }
   ],
   "source": [
    "df"
   ]
  },
  {
   "cell_type": "code",
   "execution_count": 13,
   "id": "55ad27cc-d27a-421f-babc-7c5b0364b6dc",
   "metadata": {},
   "outputs": [],
   "source": [
    "df_p = df.pivot_table(index=[\"model_type\"],\n",
    "               columns=[\"year_spread\"],\n",
    "               values=[\"rmse\"])"
   ]
  },
  {
   "cell_type": "code",
   "execution_count": 14,
   "id": "006a3b82-c0cc-41b9-946c-bf98049d965d",
   "metadata": {},
   "outputs": [],
   "source": [
    "df_p = df_p * -1"
   ]
  },
  {
   "cell_type": "code",
   "execution_count": 15,
   "id": "14d94269-0c23-4d89-a02d-c3ec053e2b28",
   "metadata": {},
   "outputs": [],
   "source": [
    "df_p.columns = [item[1] for item in df_p.columns]"
   ]
  },
  {
   "cell_type": "code",
   "execution_count": 16,
   "id": "277e982e-47a0-4143-b239-892e42be23a9",
   "metadata": {},
   "outputs": [
    {
     "data": {
      "text/html": [
       "<div>\n",
       "<style scoped>\n",
       "    .dataframe tbody tr th:only-of-type {\n",
       "        vertical-align: middle;\n",
       "    }\n",
       "\n",
       "    .dataframe tbody tr th {\n",
       "        vertical-align: top;\n",
       "    }\n",
       "\n",
       "    .dataframe thead th {\n",
       "        text-align: right;\n",
       "    }\n",
       "</style>\n",
       "<table border=\"1\" class=\"dataframe\">\n",
       "  <thead>\n",
       "    <tr style=\"text-align: right;\">\n",
       "      <th></th>\n",
       "      <th>years2021_2011</th>\n",
       "      <th>years2021_2015</th>\n",
       "      <th>years2021_2018</th>\n",
       "      <th>years2021_2019</th>\n",
       "    </tr>\n",
       "    <tr>\n",
       "      <th>model_type</th>\n",
       "      <th></th>\n",
       "      <th></th>\n",
       "      <th></th>\n",
       "      <th></th>\n",
       "    </tr>\n",
       "  </thead>\n",
       "  <tbody>\n",
       "    <tr>\n",
       "      <th>lgb</th>\n",
       "      <td>-0.016647</td>\n",
       "      <td>-0.011044</td>\n",
       "      <td>-0.009331</td>\n",
       "      <td>-0.009283</td>\n",
       "    </tr>\n",
       "    <tr>\n",
       "      <th>ols</th>\n",
       "      <td>-0.017885</td>\n",
       "      <td>-0.015755</td>\n",
       "      <td>-0.017911</td>\n",
       "      <td>-0.016998</td>\n",
       "    </tr>\n",
       "  </tbody>\n",
       "</table>\n",
       "</div>"
      ],
      "text/plain": [
       "            years2021_2011  years2021_2015  years2021_2018  years2021_2019\n",
       "model_type                                                                \n",
       "lgb              -0.016647       -0.011044       -0.009331       -0.009283\n",
       "ols              -0.017885       -0.015755       -0.017911       -0.016998"
      ]
     },
     "execution_count": 16,
     "metadata": {},
     "output_type": "execute_result"
    }
   ],
   "source": [
    "df_p"
   ]
  },
  {
   "cell_type": "code",
   "execution_count": 17,
   "id": "6ec63325-1ec5-4aa5-8c9a-2a39a1d784ce",
   "metadata": {},
   "outputs": [
    {
     "data": {
      "image/png": "[encoded data removed]",
      "text/plain": [
       "<Figure size 576x432 with 1 Axes>"
      ]
     },
     "metadata": {},
     "output_type": "display_data"
    }
   ],
   "source": [
    "fig, ax = plt.subplots(1, 1, figsize=(8, 6))\n",
    "\n",
    "ax.plot(df_p.loc['lgb'])\n",
    "\n",
    "ax.plot(df_p.loc['ols'])\n",
    "\n",
    "# ax[2].plot(df_p.loc[True, 'lgb'] - df_p.loc[False, 'lgb'])\n",
    "# ax[2].plot(df_p.loc[True, 'ols'] - df_p.loc[False, 'ols'])\n",
    "\n",
    "ax.legend([\"lgb\", \"ols\"])\n",
    "# ax[1].legend([\"lgb\", \"ols\"])\n",
    "# ax[2].legend([\"lgb\", \"ols\"])\n",
    "\n",
    "# ax[0].set_title(\"Excl. Sentiment data\")\n",
    "# ax[1].set_title(\"Incl. Sentiment data\")\n",
    "# ax[2].set_title(\"Performance gain by sentiment data\")\n",
    "\n",
    "# # ax[0].set_ylim([-0.0008, 0])\n",
    "# # ax[1].set_ylim([-0.0008, 0])\n",
    "\n",
    "plt.tight_layout()\n",
    "plt.show()"
   ]
  },
  {
   "cell_type": "code",
   "execution_count": null,
   "id": "03491ee8-4a44-401c-8d1f-a5e554d873d6",
   "metadata": {},
   "outputs": [],
   "source": []
  },
  {
   "cell_type": "code",
   "execution_count": null,
   "id": "6a6fccb5-dddc-4642-b970-0df2358c69d7",
   "metadata": {},
   "outputs": [],
   "source": []
  },
  {
   "cell_type": "code",
   "execution_count": null,
   "id": "25f57302-023c-455d-8c90-399f2fd4e233",
   "metadata": {},
   "outputs": [],
   "source": []
  }
 ],
 "metadata": {
  "kernelspec": {
   "display_name": "bachelor_env",
   "language": "python",
   "name": "bachelor_env"
  },
  "language_info": {
   "codemirror_mode": {
    "name": "ipython",
    "version": 3
   },
   "file_extension": ".py",
   "mimetype": "text/x-python",
   "name": "python",
   "nbconvert_exporter": "python",
   "pygments_lexer": "ipython3",
   "version": "3.9.4"
  }
 },
 "nbformat": 4,
 "nbformat_minor": 5
}
