{
 "cells": [
  {
   "cell_type": "code",
   "execution_count": 1,
   "id": "07be2f42-db5b-4210-bacd-72bb2c62a030",
   "metadata": {},
   "outputs": [],
   "source": [
    "%run init_notebook.py"
   ]
  },
  {
   "cell_type": "code",
   "execution_count": 2,
   "id": "b29cd854-eea4-4d93-a3a6-1540b1737089",
   "metadata": {},
   "outputs": [],
   "source": [
    "import pandas as pd\n",
    "import numpy as np\n",
    "\n",
    "import os\n",
    "\n",
    "import matplotlib.pyplot as plt\n",
    "import seaborn as sns"
   ]
  },
  {
   "cell_type": "code",
   "execution_count": 3,
   "id": "512ea178-3cc2-47bf-a378-86bbce156b61",
   "metadata": {},
   "outputs": [],
   "source": [
    "from settings import OUT_MODEL_DIR\n",
    "from utils.load import load_data, save_file\n",
    "from src.dm import dm_test"
   ]
  },
  {
   "cell_type": "code",
   "execution_count": 4,
   "id": "26d61f00-6639-46b8-89ba-d6592c82fdfb",
   "metadata": {},
   "outputs": [],
   "source": [
    "# directory overview"
   ]
  },
  {
   "cell_type": "code",
   "execution_count": 5,
   "id": "cdb7394f-2677-4bd8-9ab2-78237beb05b7",
   "metadata": {},
   "outputs": [],
   "source": [
    "def get_model_list(path):\n",
    "    dir_list = os.listdir(OUT_MODEL_DIR)\n",
    "    dir_ist = [item for item in dir_list if '.' not in item or item == \"archive\"]\n",
    "    dir_list = [item for item in dir_list if item != \"archive\"]\n",
    "    return dir_list"
   ]
  },
  {
   "cell_type": "code",
   "execution_count": 6,
   "id": "979c0fc9-3634-42ae-8574-9a1b012daeb2",
   "metadata": {},
   "outputs": [
    {
     "data": {
      "text/plain": [
       "['arma_daily_FF_TS_VX_years2021_2012_sp_close_lead1',\n",
       " 'lgb_daily_FF_TS_VX_years2021_2012_sp_close_lead1',\n",
       " 'ols_daily_FF_TS_VX_years2021_2012_sp_close_lead1',\n",
       " 'rw_daily_FF_TS_VX_years2021_2012_sp_close_lead1']"
      ]
     },
     "execution_count": 6,
     "metadata": {},
     "output_type": "execute_result"
    }
   ],
   "source": [
    "get_model_list(OUT_MODEL_DIR)"
   ]
  },
  {
   "cell_type": "code",
   "execution_count": 7,
   "id": "7b8f6b9b-a6e2-498b-a26c-fbd868078749",
   "metadata": {},
   "outputs": [],
   "source": [
    "def get_model_dict(path,\n",
    "                   dict_file_end: str = '_data_dict.pkl'):\n",
    "    dir_list = os.listdir(path)\n",
    "    dict_name = [item for item in dir_list if dict_file_end in item]\n",
    "    \n",
    "    if len(dict_name) > 1:\n",
    "        dict_name = dict_name[-1]\n",
    "    else:\n",
    "        dict_name = dict_name[0]\n",
    "    \n",
    "    file = load_data(file_name=dict_name, file_path=path)\n",
    "    return file    "
   ]
  },
  {
   "cell_type": "code",
   "execution_count": 8,
   "id": "62e45a1b-d5a8-4aa5-bc16-4a632e9dc3de",
   "metadata": {},
   "outputs": [],
   "source": [
    "class ModelMetrics:\n",
    "    \n",
    "    def __init__(self,\n",
    "                 dict_):\n",
    "        self._metrics = dict_[\"model_metrics\"]\n",
    "        \n",
    "        self.model_type = self._metrics[\"model_type\"]\n",
    "        self.predicted = dict_[\"model_features\"][\"predicted\"]\n",
    "        self.variables = self._metrics[\"variables\"]\n",
    "        self.tinterval = self._metrics[\"tinterval\"]\n",
    "        self.year_spread = self._metrics[\"year_spread\"]\n",
    "        self.rmse = self._metrics[\"rmse\"]\n",
    "        self.mse = self._metrics[\"mse\"]\n",
    "        self.mae = self._metrics[\"mae\"]\n",
    "        self.r2 = self._metrics[\"r2\"]\n",
    "        self.y_pred = self._metrics['y_pred']\n",
    "        self.y_test = self._metrics['y_test']\n",
    "        self.residuals = self._metrics['y_pred'] - self._metrics['y_test']\n",
    "        pass"
   ]
  },
  {
   "cell_type": "code",
   "execution_count": 9,
   "id": "032e104c-437a-4e15-9d58-89020420618f",
   "metadata": {},
   "outputs": [],
   "source": [
    "_ = get_model_dict(os.path.join(OUT_MODEL_DIR, \"arma_daily_FF_TS_VX_years2021_2012_sp_close_lead1\"));\n",
    "_ = ModelMetrics(_)"
   ]
  },
  {
   "cell_type": "code",
   "execution_count": 10,
   "id": "5bfa57c3-20ba-4058-b0fe-ccb7b264d85f",
   "metadata": {},
   "outputs": [
    {
     "data": {
      "text/plain": [
       "2139    0.008462\n",
       "2140   -0.001977\n",
       "2141    0.006005\n",
       "2142    0.011064\n",
       "2143   -0.001203\n",
       "Name: sp_close_lead1, dtype: float64"
      ]
     },
     "execution_count": 10,
     "metadata": {},
     "output_type": "execute_result"
    }
   ],
   "source": [
    "_.residuals.head()"
   ]
  },
  {
   "cell_type": "code",
   "execution_count": 11,
   "id": "3b73e2a7-fa8b-4970-a556-f2ce9a8eeaeb",
   "metadata": {},
   "outputs": [],
   "source": [
    "def get_metrics_overview(model_list: list):\n",
    "    \n",
    "    model_type = []\n",
    "    predicted = []\n",
    "    variables = []\n",
    "    tinterval = []\n",
    "    year_spread = []\n",
    "    rmse = []\n",
    "    mse = []\n",
    "    mae = []\n",
    "    r2 = []\n",
    "    col_name = []\n",
    "    \n",
    "    y_pred = []\n",
    "    y_test = []\n",
    "    \n",
    "    for i, item in enumerate(model_list):\n",
    "        model_type.append(item.model_type)\n",
    "        predicted.append(item.predicted)\n",
    "        variables.append(item.variables)\n",
    "        tinterval.append(item.tinterval)\n",
    "        year_spread.append(item.year_spread)\n",
    "        rmse.append(item.rmse)\n",
    "        mse.append(item.mse)\n",
    "        mae.append(item.mae)\n",
    "        r2.append(item.r2)\n",
    "        col_name.append(f'model_{i}')\n",
    "        \n",
    "        y_pred.append(item.y_pred)\n",
    "        y_test.append(item.y_test)\n",
    "        \n",
    "    df_forecast = pd.DataFrame(y_pred, index=[item + '_y_pred' for item in model_type]).transpose().reset_index(drop=True)\n",
    "    df_true = pd.DataFrame(y_test[0].values, columns=['y_test'])\n",
    "    df_forecast = pd.concat([df_forecast, df_true], axis=1)\n",
    "    for item in df_forecast.columns:\n",
    "        if item != 'y_test':\n",
    "            df_forecast[f'{item}_se'] = df_forecast[item] ** 2\n",
    "    \n",
    "    \n",
    "    df = pd.DataFrame([model_type,\n",
    "                       predicted,\n",
    "                       variables,\n",
    "                       tinterval,\n",
    "                       year_spread,\n",
    "                       rmse,\n",
    "                       mse,\n",
    "                       mae,\n",
    "                       r2],\n",
    "                     index=[\"model_type\", \"predicted\", \"variables\", 'tinterval', 'year_spread', 'rmse', \"mse\", \"mae\", \"r2\"])\n",
    "    \n",
    "    \n",
    "    \n",
    "    return df_forecast, df.transpose()"
   ]
  },
  {
   "cell_type": "code",
   "execution_count": 12,
   "id": "5f23a0c1-6b64-49f1-8118-ed5e1bd81a56",
   "metadata": {},
   "outputs": [],
   "source": [
    "model_list = []\n",
    "for item in get_model_list(OUT_MODEL_DIR):\n",
    "    model_list.append(ModelMetrics(get_model_dict(os.path.join(OUT_MODEL_DIR, item))))\n",
    "df_f, df = get_metrics_overview(model_list)"
   ]
  },
  {
   "cell_type": "code",
   "execution_count": 13,
   "id": "5b3128a5-da9a-4e38-a1dc-6d910a5379c9",
   "metadata": {},
   "outputs": [
    {
     "data": {
      "text/html": [
       "<div>\n",
       "<style scoped>\n",
       "    .dataframe tbody tr th:only-of-type {\n",
       "        vertical-align: middle;\n",
       "    }\n",
       "\n",
       "    .dataframe tbody tr th {\n",
       "        vertical-align: top;\n",
       "    }\n",
       "\n",
       "    .dataframe thead th {\n",
       "        text-align: right;\n",
       "    }\n",
       "</style>\n",
       "<table border=\"1\" class=\"dataframe\">\n",
       "  <thead>\n",
       "    <tr style=\"text-align: right;\">\n",
       "      <th></th>\n",
       "      <th>model_type</th>\n",
       "      <th>predicted</th>\n",
       "      <th>variables</th>\n",
       "      <th>tinterval</th>\n",
       "      <th>year_spread</th>\n",
       "      <th>rmse</th>\n",
       "      <th>mse</th>\n",
       "      <th>mae</th>\n",
       "      <th>r2</th>\n",
       "    </tr>\n",
       "  </thead>\n",
       "  <tbody>\n",
       "    <tr>\n",
       "      <th>1</th>\n",
       "      <td>lgb</td>\n",
       "      <td>sp_close_lead1</td>\n",
       "      <td>FF_TS_VX</td>\n",
       "      <td>daily</td>\n",
       "      <td>years2021_2012</td>\n",
       "      <td>0.008644</td>\n",
       "      <td>0.000075</td>\n",
       "      <td>0.006441</td>\n",
       "      <td>-0.023986</td>\n",
       "    </tr>\n",
       "    <tr>\n",
       "      <th>2</th>\n",
       "      <td>ols</td>\n",
       "      <td>sp_close_lead1</td>\n",
       "      <td>FF_TS_VX</td>\n",
       "      <td>daily</td>\n",
       "      <td>years2021_2012</td>\n",
       "      <td>0.008821</td>\n",
       "      <td>0.000078</td>\n",
       "      <td>0.006578</td>\n",
       "      <td>-0.066267</td>\n",
       "    </tr>\n",
       "    <tr>\n",
       "      <th>0</th>\n",
       "      <td>arma</td>\n",
       "      <td>sp_close_lead1</td>\n",
       "      <td>FF_TS_VX</td>\n",
       "      <td>daily</td>\n",
       "      <td>years2021_2012</td>\n",
       "      <td>0.00904</td>\n",
       "      <td>0.000082</td>\n",
       "      <td>0.006665</td>\n",
       "      <td>-0.119862</td>\n",
       "    </tr>\n",
       "    <tr>\n",
       "      <th>3</th>\n",
       "      <td>rw</td>\n",
       "      <td>sp_close_lead1</td>\n",
       "      <td>FF_TS_VX</td>\n",
       "      <td>daily</td>\n",
       "      <td>years2021_2012</td>\n",
       "      <td>0.012231</td>\n",
       "      <td>0.00015</td>\n",
       "      <td>0.00917</td>\n",
       "      <td>-1.050234</td>\n",
       "    </tr>\n",
       "  </tbody>\n",
       "</table>\n",
       "</div>"
      ],
      "text/plain": [
       "  model_type       predicted variables tinterval     year_spread      rmse  \\\n",
       "1        lgb  sp_close_lead1  FF_TS_VX     daily  years2021_2012  0.008644   \n",
       "2        ols  sp_close_lead1  FF_TS_VX     daily  years2021_2012  0.008821   \n",
       "0       arma  sp_close_lead1  FF_TS_VX     daily  years2021_2012   0.00904   \n",
       "3         rw  sp_close_lead1  FF_TS_VX     daily  years2021_2012  0.012231   \n",
       "\n",
       "        mse       mae        r2  \n",
       "1  0.000075  0.006441 -0.023986  \n",
       "2  0.000078  0.006578 -0.066267  \n",
       "0  0.000082  0.006665 -0.119862  \n",
       "3   0.00015   0.00917 -1.050234  "
      ]
     },
     "execution_count": 13,
     "metadata": {},
     "output_type": "execute_result"
    }
   ],
   "source": [
    "df.sort_values('rmse')"
   ]
  },
  {
   "cell_type": "code",
   "execution_count": 14,
   "id": "03491ee8-4a44-401c-8d1f-a5e554d873d6",
   "metadata": {},
   "outputs": [],
   "source": [
    "# Performance testing"
   ]
  },
  {
   "cell_type": "code",
   "execution_count": 15,
   "id": "e21da1a0-5c95-42de-a4e3-29f27f4f6428",
   "metadata": {},
   "outputs": [],
   "source": [
    "import scipy.stats as stats\n",
    "import seaborn as sns"
   ]
  },
  {
   "cell_type": "code",
   "execution_count": 16,
   "id": "904d2fdd-1d20-4c48-a7b2-d16adacef8ac",
   "metadata": {},
   "outputs": [
    {
     "data": {
      "image/png": "[encoded data removed]",
      "text/plain": [
       "<Figure size 1440x288 with 4 Axes>"
      ]
     },
     "metadata": {
      "needs_background": "light"
     },
     "output_type": "display_data"
    }
   ],
   "source": [
    "fig, ax = plt.subplots(ncols=len(model_list), nrows=1, figsize=(len(model_list) * 5, 4))\n",
    "\n",
    "_df = df_f[[item for item in df_f.columns if \"se\" in item]].copy()\n",
    "for i, item in enumerate(model_list):\n",
    "    ax[i].boxplot(_df.iloc[:, i])\n",
    "    ax[i].set_title(item.model_type)\n"
   ]
  },
  {
   "cell_type": "code",
   "execution_count": 17,
   "id": "a12a189b-5f3b-4722-8f83-e14416512f2d",
   "metadata": {},
   "outputs": [],
   "source": [
    "import scipy.stats as stats\n",
    "\n",
    "def _anova_assumptions(*args,\n",
    "                       sig: float = .05):\n",
    "    for item in args:\n",
    "        assert (type(item) == pd.Series) | (type(item) == list) | (type(item) == np.array), 'args need to bo of type array'\n",
    "    \n",
    "    norm_res = []\n",
    "    for item in args:\n",
    "        norm = stats.normaltest(item)\n",
    "        norm_res.append(norm)\n",
    "    \n",
    "    lev = stats.levene(*args)\n",
    "    \n",
    "    if lev.pvalue > sig:\n",
    "        print(\"\\nLevene's of variance homogenity\")\n",
    "        print(f\"Samples have same variance: {lev.pvalue < sig}\")\n",
    "        print(f\"Pvalue: {lev.pvalue}\")\n",
    "    \n",
    "    for item, arr in zip(norm_res, args):\n",
    "        if item.pvalue > sig:\n",
    "            print(\"\\nNormality test\")\n",
    "            print(f\"Sample {arr.name} is normally distributed {item.pvalue < sig}\")\n",
    "            print(f\"Pvalue: {item.pvalue}\")\n",
    "    \n",
    "    return lev, norm_res    \n",
    "\n",
    "def anova(*args,\n",
    "          sig: float = .05,\n",
    "         print_res: bool = True):\n",
    "    _anova_assumptions(*args, sig=sig)\n",
    "    res = stats.f_oneway(*args)\n",
    "    \n",
    "    is_sig = res.pvalue < sig\n",
    "    \n",
    "    if print_res:\n",
    "        print('\\nOne-way ANOVA')\n",
    "        print(f'ANOVA test statistics: {res.statistic}')\n",
    "        print(f'ANOVA pvalue: {res.pvalue}')\n",
    "        print(f'Difference in means exists: {is_sig}')\n",
    "    \n",
    "    return is_sig"
   ]
  },
  {
   "cell_type": "code",
   "execution_count": null,
   "id": "716e69de-191b-443f-979c-6cc41854e987",
   "metadata": {},
   "outputs": [],
   "source": []
  },
  {
   "cell_type": "code",
   "execution_count": 22,
   "id": "dc3a4cf5-daf7-4c33-ace6-08fa0b645d1c",
   "metadata": {},
   "outputs": [
    {
     "name": "stdout",
     "output_type": "stream",
     "text": [
      "\n",
      "Levene's of variance homogenity\n",
      "Samples have same variance: False\n",
      "Pvalue: 0.2041606726532124\n",
      "\n",
      "One-way ANOVA\n",
      "ANOVA test statistics: 2.033430354077288\n",
      "ANOVA pvalue: 0.13164624585297996\n",
      "Difference in means exists: False\n"
     ]
    },
    {
     "data": {
      "text/plain": [
       "False"
      ]
     },
     "execution_count": 22,
     "metadata": {},
     "output_type": "execute_result"
    }
   ],
   "source": [
    "anova(df_f.arma_y_pred_se, df_f.lgb_y_pred_se, df_f.ols_y_pred_se)"
   ]
  },
  {
   "cell_type": "code",
   "execution_count": 20,
   "id": "42cd0ca0-48a2-42b9-b4b5-b95a4db83b72",
   "metadata": {},
   "outputs": [
    {
     "name": "stdout",
     "output_type": "stream",
     "text": [
      "Diebold-Marion Test\n",
      "ARMA: True\n",
      "OLS: True\n",
      "LGB: True\n"
     ]
    }
   ],
   "source": [
    "sig = .05 / 3\n",
    "print(\"Diebold-Marion Test\")\n",
    "\n",
    "print(f\"ARMA: {dm_test(df_f.y_test, df_f.arma_y_pred, df_f.rw_y_pred).p_value < sig}\")\n",
    "print(f\"OLS: {dm_test(df_f.y_test, df_f.ols_y_pred, df_f.rw_y_pred).p_value < sig}\")\n",
    "print(f\"LGB: {dm_test(df_f.y_test, df_f.lgb_y_pred, df_f.rw_y_pred).p_value < sig}\")"
   ]
  },
  {
   "cell_type": "code",
   "execution_count": null,
   "id": "22629549-c708-495c-bc42-a368b50692ab",
   "metadata": {},
   "outputs": [],
   "source": []
  }
 ],
 "metadata": {
  "kernelspec": {
   "display_name": "bachelor_env",
   "language": "python",
   "name": "bachelor_env"
  },
  "language_info": {
   "codemirror_mode": {
    "name": "ipython",
    "version": 3
   },
   "file_extension": ".py",
   "mimetype": "text/x-python",
   "name": "python",
   "nbconvert_exporter": "python",
   "pygments_lexer": "ipython3",
   "version": "3.9.4"
  }
 },
 "nbformat": 4,
 "nbformat_minor": 5
}
