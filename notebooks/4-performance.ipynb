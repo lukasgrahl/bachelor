{
 "cells": [
  {
   "cell_type": "code",
   "execution_count": 1,
   "id": "07be2f42-db5b-4210-bacd-72bb2c62a030",
   "metadata": {},
   "outputs": [],
   "source": [
    "%run init_notebook.py"
   ]
  },
  {
   "cell_type": "code",
   "execution_count": 2,
   "id": "b29cd854-eea4-4d93-a3a6-1540b1737089",
   "metadata": {},
   "outputs": [],
   "source": [
    "import pandas as pd\n",
    "import numpy as np\n",
    "\n",
    "import os"
   ]
  },
  {
   "cell_type": "code",
   "execution_count": 3,
   "id": "512ea178-3cc2-47bf-a378-86bbce156b61",
   "metadata": {},
   "outputs": [],
   "source": [
    "from settings import OUT_MODEL_DIR\n",
    "from utils.load import load_data, save_file"
   ]
  },
  {
   "cell_type": "code",
   "execution_count": 4,
   "id": "26d61f00-6639-46b8-89ba-d6592c82fdfb",
   "metadata": {},
   "outputs": [],
   "source": [
    "# directory overview"
   ]
  },
  {
   "cell_type": "code",
   "execution_count": 5,
   "id": "cdb7394f-2677-4bd8-9ab2-78237beb05b7",
   "metadata": {},
   "outputs": [],
   "source": [
    "def get_model_list(path):\n",
    "    dir_list = os.listdir(OUT_MODEL_DIR)\n",
    "    dir_ist = [item for item in dir_list if '.' not in item]\n",
    "    return dir_list"
   ]
  },
  {
   "cell_type": "code",
   "execution_count": 6,
   "id": "7b8f6b9b-a6e2-498b-a26c-fbd868078749",
   "metadata": {},
   "outputs": [],
   "source": [
    "def get_model_dict(path,\n",
    "                   dict_file_end: str = '_data_dict.pkl'):\n",
    "    dir_list = os.listdir(path)\n",
    "    dict_name = [item for item in dir_list if dict_file_end in item]\n",
    "    \n",
    "    if len(dict_name) > 1:\n",
    "        dict_name = dict_name[-1]\n",
    "    else:\n",
    "        dict_name = dict_name[0]\n",
    "    \n",
    "    file = load_data(file_name=dict_name, file_path=path)\n",
    "    return file    "
   ]
  },
  {
   "cell_type": "code",
   "execution_count": 8,
   "id": "0c909f26-0860-4edf-b242-0d70e37885a5",
   "metadata": {},
   "outputs": [],
   "source": [
    "class ModelMetrics:\n",
    "    \n",
    "    def __init__(self,\n",
    "                 dict_):\n",
    "        self._metrics = dict_[\"model_metrics\"]\n",
    "        \n",
    "        self.model_type = self._metrics[\"model_type\"]\n",
    "        self.predicted = dict_[\"model_features\"][\"predicted\"]\n",
    "        self.data_len = self._metrics[\"data_len\"]\n",
    "        self.is_sent = self._metrics[\"is_sent\"]\n",
    "        self.mse = self._metrics[\"mse\"]\n",
    "        self.mae = self._metrics[\"mae\"]\n",
    "        self.r2 = self._metrics[\"r2\"]\n",
    "        pass"
   ]
  },
  {
   "cell_type": "code",
   "execution_count": 9,
   "id": "3b73e2a7-fa8b-4970-a556-f2ce9a8eeaeb",
   "metadata": {},
   "outputs": [],
   "source": [
    "def get_metrics_overview(model_list: list):\n",
    "    \n",
    "    model_type = []\n",
    "    predicted = []\n",
    "    data_len = []\n",
    "    is_sent = []\n",
    "    mse = []\n",
    "    mae = []\n",
    "    r2 = []\n",
    "    col_name = []\n",
    "    for i, item in enumerate(model_list):\n",
    "        model_type.append(item.model_type)\n",
    "        predicted.append(item.predicted)\n",
    "        data_len.append(item.data_len)\n",
    "        is_sent.append(item.is_sent)\n",
    "        mse.append(item.mse)\n",
    "        mae.append(item.mae)\n",
    "        r2.append(item.r2)\n",
    "        col_name.append(f'model_{i}')\n",
    "    \n",
    "    df = pd.DataFrame([model_type,\n",
    "                       predicted,\n",
    "                       data_len,\n",
    "                       is_sent,\n",
    "                       mse,\n",
    "                       mae,\n",
    "                       r2],\n",
    "                     index=[\"model_type\", \"predicted\", \"data_len\", \"is_sent\", \"mse\", \"mae\", \"r2\"])\n",
    "    \n",
    "    return df.transpose()\n",
    "        \n",
    "        "
   ]
  },
  {
   "cell_type": "code",
   "execution_count": 10,
   "id": "5f23a0c1-6b64-49f1-8118-ed5e1bd81a56",
   "metadata": {},
   "outputs": [],
   "source": [
    "model_list = []\n",
    "for item in get_model_list(OUT_MODEL_DIR):\n",
    "    model_list.append(ModelMetrics(get_model_dict(os.path.join(OUT_MODEL_DIR, item))))\n",
    "df = get_metrics_overview(model_list)"
   ]
  },
  {
   "cell_type": "code",
   "execution_count": 12,
   "id": "55ad27cc-d27a-421f-babc-7c5b0364b6dc",
   "metadata": {},
   "outputs": [
    {
     "data": {
      "text/html": [
       "<div>\n",
       "<style scoped>\n",
       "    .dataframe tbody tr th:only-of-type {\n",
       "        vertical-align: middle;\n",
       "    }\n",
       "\n",
       "    .dataframe tbody tr th {\n",
       "        vertical-align: top;\n",
       "    }\n",
       "\n",
       "    .dataframe thead tr th {\n",
       "        text-align: left;\n",
       "    }\n",
       "\n",
       "    .dataframe thead tr:last-of-type th {\n",
       "        text-align: right;\n",
       "    }\n",
       "</style>\n",
       "<table border=\"1\" class=\"dataframe\">\n",
       "  <thead>\n",
       "    <tr>\n",
       "      <th></th>\n",
       "      <th></th>\n",
       "      <th colspan=\"2\" halign=\"left\">mse</th>\n",
       "    </tr>\n",
       "    <tr>\n",
       "      <th></th>\n",
       "      <th>predicted</th>\n",
       "      <th>sp_close_lead1</th>\n",
       "      <th>sp_close_lead14</th>\n",
       "    </tr>\n",
       "    <tr>\n",
       "      <th>is_sent</th>\n",
       "      <th>model_type</th>\n",
       "      <th></th>\n",
       "      <th></th>\n",
       "    </tr>\n",
       "  </thead>\n",
       "  <tbody>\n",
       "    <tr>\n",
       "      <th rowspan=\"2\" valign=\"top\">True</th>\n",
       "      <th>lgb</th>\n",
       "      <td>0.000224</td>\n",
       "      <td>0.000582</td>\n",
       "    </tr>\n",
       "    <tr>\n",
       "      <th>ols</th>\n",
       "      <td>0.000241</td>\n",
       "      <td>0.000499</td>\n",
       "    </tr>\n",
       "  </tbody>\n",
       "</table>\n",
       "</div>"
      ],
      "text/plain": [
       "                              mse                \n",
       "predicted          sp_close_lead1 sp_close_lead14\n",
       "is_sent model_type                               \n",
       "True    lgb              0.000224        0.000582\n",
       "        ols              0.000241        0.000499"
      ]
     },
     "execution_count": 12,
     "metadata": {},
     "output_type": "execute_result"
    }
   ],
   "source": [
    "df.pivot_table(index=[\"is_sent\", \"model_type\"],\n",
    "               columns=[\"predicted\"],\n",
    "               values=[\"mse\"])\n",
    "               \n",
    "               "
   ]
  },
  {
   "cell_type": "code",
   "execution_count": null,
   "id": "11779fa4-7161-4f8d-b932-3826a3013441",
   "metadata": {},
   "outputs": [],
   "source": []
  },
  {
   "cell_type": "code",
   "execution_count": null,
   "id": "6a6fccb5-dddc-4642-b970-0df2358c69d7",
   "metadata": {},
   "outputs": [],
   "source": []
  }
 ],
 "metadata": {
  "kernelspec": {
   "display_name": "bachelor_env",
   "language": "python",
   "name": "bachelor_env"
  },
  "language_info": {
   "codemirror_mode": {
    "name": "ipython",
    "version": 3
   },
   "file_extension": ".py",
   "mimetype": "text/x-python",
   "name": "python",
   "nbconvert_exporter": "python",
   "pygments_lexer": "ipython3",
   "version": "3.9.4"
  }
 },
 "nbformat": 4,
 "nbformat_minor": 5
}
