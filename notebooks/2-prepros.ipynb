{
 "cells": [
  {
   "cell_type": "code",
   "execution_count": 1,
   "id": "3e290b89-7168-4eeb-a032-eb2fd257260a",
   "metadata": {},
   "outputs": [],
   "source": [
    "%run init_notebook.py"
   ]
  },
  {
   "cell_type": "code",
   "execution_count": 2,
   "id": "b024729b-d937-4f58-a106-66963706e5a9",
   "metadata": {},
   "outputs": [],
   "source": [
    "import pandas as pd\n",
    "import numpy as np"
   ]
  },
  {
   "cell_type": "code",
   "execution_count": 3,
   "id": "4bc0144f-73a4-4348-88c4-17dcf8d2b150",
   "metadata": {},
   "outputs": [],
   "source": [
    "from settings import RAW_DATA_DIR, WORK_DATA_DIR, OUT_DATA_DIR, OUT_MODEL_DIR, random_state\n",
    "from utils.utils import *\n",
    "from utils.load import load_data, save_file, save_model\n",
    "from utils.cast_data import apply_datetime_format, check_datetime_sanity\n",
    "from utils.plotting import *\n",
    "from src.src import *"
   ]
  },
  {
   "cell_type": "code",
   "execution_count": 4,
   "id": "7c1bf40e-2145-4b12-8862-c4a8c863f0b3",
   "metadata": {},
   "outputs": [],
   "source": [
    "# load data\n",
    "df_all = load_data(file_name=\"merged_data.csv\", file_path=WORK_DATA_DIR)\n",
    "data_dict = load_data(file_name=\"merged_data_dict.pkl\", file_path=WORK_DATA_DIR)"
   ]
  },
  {
   "cell_type": "code",
   "execution_count": 33,
   "id": "9a68e853-0dc3-48a9-a0f1-963be072990b",
   "metadata": {},
   "outputs": [],
   "source": [
    "# select relevant data\n",
    "df_w = df_all.copy()\n",
    "\n",
    "## SELECT COLS INCLUDED HERE\n",
    "# # len 1500\n",
    "# drop_cols = data_dict[\"data\"][\"df_cols\"][\"fears\"] + data_dict[\"data\"][\"df_cols\"][\"goog_sent\"] +data_dict[\"data\"][\"df_cols\"][\"put_call\"] + data_dict[\"data\"][\"df_cols\"][\"naaim_risk\"]\n",
    "\n",
    "# # len 760\n",
    "drop_cols = data_dict[\"data\"][\"df_cols\"][\"fears\"] + data_dict[\"data\"][\"df_cols\"][\"goog_sent\"] + data_dict[\"data\"][\"df_cols\"][\"put_call\"]\n",
    "\n",
    "# # len 660\n",
    "drop_cols = data_dict[\"data\"][\"df_cols\"][\"fears\"] + data_dict[\"data\"][\"df_cols\"][\"goog_sent\"]\n",
    "\n",
    "# # len 440\n",
    "drop_cols = data_dict[\"data\"][\"df_cols\"][\"fears\"]\n",
    "\n",
    "# # len 270\n",
    "# drop_cols = None\n",
    "\n",
    "df_w = df_w.drop(drop_cols, axis=1).copy()\n",
    "\n",
    "# # get data on weekly basis\n",
    "df_w = cut_to_weekly_data(df_w, \"is_thu\").reset_index(drop=True)\n",
    "\n",
    "# actual sp prices\n",
    "data_dict[\"data\"].update(sp_true_vals=\"sp_true_vals\")\n",
    "\n",
    "# # preserve actual prices\n",
    "df_w[data_dict[\"data\"][\"sp_true_vals\"]] = df_w[\"sp_close\"]"
   ]
  },
  {
   "cell_type": "code",
   "execution_count": 34,
   "id": "32a80774-8dd5-46fc-aa71-cab3cdc5ea76",
   "metadata": {},
   "outputs": [],
   "source": [
    "df_w = cut_to_weekly_data(df_w, \"is_thu\")\n",
    "df_w_notrans = df_w.copy()"
   ]
  },
  {
   "cell_type": "code",
   "execution_count": 35,
   "id": "006aac87-0c3f-4d73-b5dd-4f1a33c1574a",
   "metadata": {},
   "outputs": [],
   "source": [
    "# get aggregation variables\n",
    "df_w[\"sp_agg1\"] = df_w.sp_close_lag1 * df_w.sp_close_lag2 * df_w.sp_close_lag3 * df_w.sp_close_lag4"
   ]
  },
  {
   "cell_type": "code",
   "execution_count": 36,
   "id": "26808061-3b9e-44fc-a49b-7deec8e0fc33",
   "metadata": {},
   "outputs": [],
   "source": [
    "# edit data_dict\n",
    "\n",
    "# all sp cols, lags & leads\n",
    "data_dict[\"data\"].update(sp_cols=[item for item in df_w.columns if \"sp_close\" in item])\n",
    "\n",
    "\n",
    "relevant_cols=[\n",
    "    # 'fears35',\n",
    "    # 'fears25',\n",
    "    # 'fears30',\n",
    "    'vixo',\n",
    "    'naaim_ind',\n",
    "    'naaim_max',\n",
    "    'naaim_q1',\n",
    "    'ff_M_RF',\n",
    "    'ff_SMB',\n",
    "    'ff_HML',\n",
    "    'ff_RMW',\n",
    "    'ff_CMA',\n",
    "    # 'ff_RF',\n",
    "    'termspread',\n",
    "    'pc_ratio',\n",
    "    'aaii_Bullish',\n",
    "    'aaii_Bearish',\n",
    "    'aaii_Neutral',\n",
    "    # 'goog_sent'\n",
    "] \n",
    "\n",
    "# relevant cols are features + sp_cols + target col, thus all relevant columns\n",
    "relevant_cols = relevant_cols + data_dict[\"data\"][\"sp_cols\"]\n",
    "\n",
    "data_dict[\"data\"].update(relevant_cols=relevant_cols)"
   ]
  },
  {
   "cell_type": "code",
   "execution_count": 37,
   "id": "7b3ece52-e78f-4ae0-8283-53ed41817709",
   "metadata": {},
   "outputs": [],
   "source": [
    "# sanity check\n",
    "_ = [item for item in data_dict[\"data\"][\"relevant_cols\"] if item not in df_w.columns]\n",
    "assert len(_) == 0, f\"Relevant cols has columns not pertaining to df: {_}\""
   ]
  },
  {
   "cell_type": "code",
   "execution_count": 38,
   "id": "f28db6bb-b3f6-4980-a902-43fa615a4d52",
   "metadata": {},
   "outputs": [],
   "source": [
    "# log returns\n",
    "# all cols but ff_factors, as these are returns already\n",
    "df_w, dist, log = df_log_return(df_w,\n",
    "                                cols=[item for item in data_dict[\"data\"][\"relevant_cols\"] if item not in data_dict[\"data\"][\"df_cols\"][\"ff_factors5\"]])\n",
    "\n",
    "\n",
    "data_dict[\"data_transformation\"].update(dist_translation=dist)\n",
    "data_dict[\"data_transformation\"].update(log_returns=log)"
   ]
  },
  {
   "cell_type": "code",
   "execution_count": 39,
   "id": "6cfbc96a-91d1-4d3d-9bdd-66117bb1237a",
   "metadata": {},
   "outputs": [
    {
     "data": {
      "text/plain": [
       "{'vixo': True,\n",
       " 'naaim_ind': True,\n",
       " 'naaim_max': True,\n",
       " 'naaim_q1': True,\n",
       " 'ff_M_RF': True,\n",
       " 'ff_SMB': True,\n",
       " 'ff_HML': True,\n",
       " 'ff_RMW': True,\n",
       " 'ff_CMA': True,\n",
       " 'termspread': True,\n",
       " 'pc_ratio': True,\n",
       " 'aaii_Bullish': True,\n",
       " 'aaii_Bearish': True,\n",
       " 'aaii_Neutral': True,\n",
       " 'sp_close': True,\n",
       " 'sp_close_lead14': True,\n",
       " 'sp_close_lead13': True,\n",
       " 'sp_close_lead12': True,\n",
       " 'sp_close_lead11': True,\n",
       " 'sp_close_lead10': True,\n",
       " 'sp_close_lead9': True,\n",
       " 'sp_close_lead8': True,\n",
       " 'sp_close_lead7': True,\n",
       " 'sp_close_lead6': True,\n",
       " 'sp_close_lead5': True,\n",
       " 'sp_close_lead4': True,\n",
       " 'sp_close_lead3': True,\n",
       " 'sp_close_lead2': True,\n",
       " 'sp_close_lead1': True,\n",
       " 'sp_close_lag1': True,\n",
       " 'sp_close_lag2': True,\n",
       " 'sp_close_lag3': True,\n",
       " 'sp_close_lag4': True,\n",
       " 'sp_close_lag5': True,\n",
       " 'sp_close_lag6': True,\n",
       " 'sp_close_lag7': True}"
      ]
     },
     "execution_count": 39,
     "metadata": {},
     "output_type": "execute_result"
    }
   ],
   "source": [
    "# test normality & stationarity\n",
    "stest = StatsTest(plot=False)\n",
    "\n",
    "stationarity = stest.df_test_stationarity(df_w, data_dict[\"data\"][\"relevant_cols\"])\n",
    "data_dict[\"data_stests\"].update(stationarity=stationarity)\n",
    "\n",
    "normality = stest.df_test_normality(df_w, cols=data_dict[\"data\"][\"relevant_cols\"])\n",
    "data_dict[\"data_stests\"].update(normality=normality)\n",
    "\n",
    "stationarity"
   ]
  },
  {
   "cell_type": "markdown",
   "id": "90574279-b574-4f6d-ba5f-3337062eef91",
   "metadata": {},
   "source": [
    "# Saving"
   ]
  },
  {
   "cell_type": "code",
   "execution_count": 40,
   "id": "3715b0ca-b3ce-4d9a-8ead-358012f3f5bd",
   "metadata": {},
   "outputs": [
    {
     "data": {
      "text/plain": [
       "['fears25', 'fears30', 'fears35']"
      ]
     },
     "execution_count": 40,
     "metadata": {},
     "output_type": "execute_result"
    }
   ],
   "source": [
    "drop_cols"
   ]
  },
  {
   "cell_type": "code",
   "execution_count": 41,
   "id": "d1e98d7c-cc5b-4cd0-81a7-b61cebf296b4",
   "metadata": {},
   "outputs": [
    {
     "name": "stdout",
     "output_type": "stream",
     "text": [
      "Saving as df_weekly_440\n"
     ]
    }
   ],
   "source": [
    "if drop_cols == ['fears25', 'fears30', 'fears35', 'goog_sent']:\n",
    "    print(\"Saving as df_weekly_660\")\n",
    "    save_file(df_w, file_name=\"df_weekly_660.csv\", file_path=WORK_DATA_DIR, index=False)\n",
    "    save_file(df_w_notrans, file_name=\"df_weekly_no_trans_660.csv\", file_path=WORK_DATA_DIR, index=False)\n",
    "    save_file(data_dict, file_name=\"dict_weekly_660.pkl\", file_path=WORK_DATA_DIR, index=False)\n",
    "\n",
    "elif drop_cols == ['fears25',\n",
    "                 'fears30',\n",
    "                 'fears35',\n",
    "                 'goog_sent',\n",
    "                 'Call',\n",
    "                 'Put',\n",
    "                 'Total',\n",
    "                 'pc_ratio']:\n",
    "    print(\"Saving as df_weekly_760\")\n",
    "    save_file(df_w, file_name=\"df_weekly_760.csv\", file_path=WORK_DATA_DIR, index=False)\n",
    "    save_file(df_w_notrans, file_name=\"df_weekly_no_trans_760.csv\", file_path=WORK_DATA_DIR, index=False)\n",
    "    save_file(data_dict, file_name=\"dict_weekly_760.pkl\", file_path=WORK_DATA_DIR, index=False)\n",
    "    \n",
    "elif drop_cols == ['fears25', 'fears30', 'fears35']:\n",
    "    print(\"Saving as df_weekly_440\")\n",
    "    save_file(df_w, file_name=\"df_weekly_440.csv\", file_path=WORK_DATA_DIR, index=False)\n",
    "    save_file(df_w_notrans, file_name=\"df_weekly_no_trans_440.csv\", file_path=WORK_DATA_DIR, index=False)\n",
    "    save_file(data_dict, file_name=\"dict_weekly_440.pkl\", file_path=WORK_DATA_DIR, index=False)\n",
    "    \n",
    "elif drop_cols == ['fears25',\n",
    "                 'fears30',\n",
    "                 'fears35',\n",
    "                 'goog_sent',\n",
    "                 'Call',\n",
    "                 'Put',\n",
    "                 'Total',\n",
    "                 'pc_ratio',\n",
    "                 'Mean/Average',\n",
    "                 'naaim_max',\n",
    "                 'naaim_q1',\n",
    "                 'Quart 2 (median)',\n",
    "                 'Quart 3 (25% at/above)',\n",
    "                 'Most Bullish Response',\n",
    "                 'naaim_std',\n",
    "                 'naaim_ind',\n",
    "                 'S&P 500']:\n",
    "    print(\"Saving as df_weekly_1560\")\n",
    "    save_file(df_w, file_name=\"df_weekly_1560.csv\", file_path=WORK_DATA_DIR, index=False)\n",
    "    save_file(df_w_notrans, file_name=\"df_weekly_no_trans_1560.csv\", file_path=WORK_DATA_DIR, index=False)\n",
    "    save_file(data_dict, file_name=\"dict_weekly_1560.pkl\", file_path=WORK_DATA_DIR, index=False)"
   ]
  },
  {
   "cell_type": "code",
   "execution_count": null,
   "id": "d3ed2c53-acdb-45f0-ad66-6c50b7d2979d",
   "metadata": {},
   "outputs": [],
   "source": []
  }
 ],
 "metadata": {
  "kernelspec": {
   "display_name": "bachelor_env",
   "language": "python",
   "name": "bachelor_env"
  },
  "language_info": {
   "codemirror_mode": {
    "name": "ipython",
    "version": 3
   },
   "file_extension": ".py",
   "mimetype": "text/x-python",
   "name": "python",
   "nbconvert_exporter": "python",
   "pygments_lexer": "ipython3",
   "version": "3.9.4"
  }
 },
 "nbformat": 4,
 "nbformat_minor": 5
}
