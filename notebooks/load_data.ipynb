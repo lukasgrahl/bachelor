{
 "cells": [
  {
   "cell_type": "code",
   "execution_count": 1,
   "id": "3aaf210f-4071-4ae2-9edc-c3892f33dfdb",
   "metadata": {},
   "outputs": [],
   "source": [
    "%run init_notebook.py"
   ]
  },
  {
   "cell_type": "code",
   "execution_count": 2,
   "id": "d501f3b5-f684-4593-82a7-9ce34ad23816",
   "metadata": {},
   "outputs": [],
   "source": [
    "import pandas as pd\n",
    "import numpy as np\n",
    "\n",
    "import os\n",
    "from functools import wraps"
   ]
  },
  {
   "cell_type": "code",
   "execution_count": 3,
   "id": "bcb6e050-ecc3-4576-b203-896708322cb1",
   "metadata": {},
   "outputs": [],
   "source": [
    "from settings import RAW_DATA_DIR, WORK_DATA_DIR\n",
    "from utils.utils import load_data, save_file"
   ]
  },
  {
   "cell_type": "code",
   "execution_count": 4,
   "id": "960e1635-7db9-439e-82bd-ae0a520eca7c",
   "metadata": {},
   "outputs": [
    {
     "name": "stdout",
     "output_type": "stream",
     "text": [
      "Unknown columns found\n",
      "['Date']\n",
      "Unknown columns found\n",
      "['Date']\n",
      "Unknown columns found\n",
      "['Unnamed: 0']\n",
      "Unknown columns found\n",
      "['Unnamed: 0']\n",
      "Unknown columns found\n",
      "['DATE', 'TEDRATE']\n"
     ]
    }
   ],
   "source": [
    "# load raw format\n",
    "fears = load_data(\"fears.csv\", file_path=RAW_DATA_DIR)\n",
    "cbeo_vix = load_data(\"cbeo_vix.csv\", file_path=RAW_DATA_DIR).rename(columns={\"Date\": \"date\"})\n",
    "naaim_risk = load_data(\"naaim_risk.xlsx\", file_path=RAW_DATA_DIR).rename(columns={\"Date\": \"date\"})\n",
    "ff_factors5 = load_data(\"ff_factors5.csv\", file_path=RAW_DATA_DIR, skiprows=3).rename(columns={\"Unnamed: 0\" : \"date\"})\n",
    "ff_factors3 = load_data(\"ff_factors3.csv\", file_path=RAW_DATA_DIR, skiprows=3).rename(columns={\"Unnamed: 0\" : \"date\"})\n",
    "us_termspread = load_data(\"us_termspread.csv\", file_path=RAW_DATA_DIR).rename(columns={\"DATE\": \"date\", \"TEDRATE\": \"termspread\"})\n",
    "# trade_vol = load_data(\"trade_vol.csv\", file_path=RAW_DATA_DIR)"
   ]
  },
  {
   "cell_type": "code",
   "execution_count": 5,
   "id": "d76e52a1-48ae-4baf-8fc4-d79c042e7bfb",
   "metadata": {},
   "outputs": [],
   "source": [
    "# create cast_dict\n",
    "_ = list(fears.columns)\n",
    "_.extend(list(cbeo_vix.columns))\n",
    "_.extend(list(naaim_risk.columns))\n",
    "_.extend(list(ff_factors3.columns))\n",
    "_.extend(list(ff_factors5.columns))\n",
    "_.extend(list(us_termspread.columns))\n",
    "\n",
    "_ = list(set(_))\n",
    "_.sort()\n",
    "# {item: float for item in _}"
   ]
  },
  {
   "cell_type": "code",
   "execution_count": 6,
   "id": "0d0aa431-a2e6-4f6b-95f7-c7c8564fa32e",
   "metadata": {},
   "outputs": [],
   "source": [
    "# save files in feather format\n",
    "save_file(fears, file_name=\"fears.feather\", file_path=WORK_DATA_DIR)\n",
    "save_file(df=cbeo_vix, file_name=\"cbeo_vix.feather\", file_path=WORK_DATA_DIR)\n",
    "save_file(df=naaim_risk, file_name=\"naaim_risk.feather\", file_path=WORK_DATA_DIR)\n",
    "save_file(df=ff_factors5, file_name=\"ff_factors5.feather\", file_path=WORK_DATA_DIR)\n",
    "save_file(df=ff_factors3, file_name=\"ff_factors3.feather\", file_path=WORK_DATA_DIR)\n",
    "save_file(df=us_termspread, file_name=\"us_termspread.feather\", file_path=WORK_DATA_DIR)"
   ]
  },
  {
   "cell_type": "markdown",
   "id": "ca1f34de-0ac7-4ce4-a4e3-0a6714ba2200",
   "metadata": {},
   "source": [
    "Load feather files"
   ]
  },
  {
   "cell_type": "code",
   "execution_count": 9,
   "id": "fa8998cf-d8a6-4278-af1a-e18d38845583",
   "metadata": {},
   "outputs": [],
   "source": [
    "fears = load_data(\"fears.feather\", file_path=WORK_DATA_DIR)\n",
    "cbeo_vix = load_data(\"cbeo_vix.feather\", file_path=WORK_DATA_DIR)\n",
    "naaim_risk = load_data(\"naaim_risk.feather\", file_path=WORK_DATA_DIR)\n",
    "ff_factors5 = load_data(\"ff_factors5.feather\", file_path=WORK_DATA_DIR)\n",
    "ff_factors3 = load_data(\"ff_factors3.feather\", file_path=WORK_DATA_DIR)\n",
    "us_termspread = load_data(\"us_termspread.feather\", file_path=WORK_DATA_DIR)\n",
    "# # trade_vol = load_data(\"trade_vol.csv\", file_path=RAW_DATA_DIR)"
   ]
  },
  {
   "cell_type": "markdown",
   "id": "8c4df10f-a197-4a58-bb96-21f886243dc5",
   "metadata": {},
   "source": [
    "Merge files"
   ]
  },
  {
   "cell_type": "code",
   "execution_count": 13,
   "id": "2c280385-2f58-4024-991b-01299c9042e4",
   "metadata": {},
   "outputs": [
    {
     "ename": "NameError",
     "evalue": "name 'naaim_risk' is not defined",
     "output_type": "error",
     "traceback": [
      "\u001b[1;31m---------------------------------------------------------------------------\u001b[0m",
      "\u001b[1;31mNameError\u001b[0m                                 Traceback (most recent call last)",
      "\u001b[1;32mC:\\Users\\LUKASG~1\\AppData\\Local\\Temp/ipykernel_48568/3328405841.py\u001b[0m in \u001b[0;36m<module>\u001b[1;34m\u001b[0m\n\u001b[1;32m----> 1\u001b[1;33m \u001b[0mnaaim_risk\u001b[0m\u001b[1;33m\u001b[0m\u001b[1;33m\u001b[0m\u001b[0m\n\u001b[0m",
      "\u001b[1;31mNameError\u001b[0m: name 'naaim_risk' is not defined"
     ]
    }
   ],
   "source": [
    "naaim_risk"
   ]
  },
  {
   "cell_type": "code",
   "execution_count": 10,
   "id": "6b6d6222-1890-4a09-b949-9efdcc2fe747",
   "metadata": {},
   "outputs": [
    {
     "data": {
      "text/html": [
       "<div>\n",
       "<style scoped>\n",
       "    .dataframe tbody tr th:only-of-type {\n",
       "        vertical-align: middle;\n",
       "    }\n",
       "\n",
       "    .dataframe tbody tr th {\n",
       "        vertical-align: top;\n",
       "    }\n",
       "\n",
       "    .dataframe thead th {\n",
       "        text-align: right;\n",
       "    }\n",
       "</style>\n",
       "<table border=\"1\" class=\"dataframe\">\n",
       "  <thead>\n",
       "    <tr style=\"text-align: right;\">\n",
       "      <th></th>\n",
       "      <th>date</th>\n",
       "      <th>fears25</th>\n",
       "      <th>fears30</th>\n",
       "      <th>fears35</th>\n",
       "    </tr>\n",
       "  </thead>\n",
       "  <tbody>\n",
       "    <tr>\n",
       "      <th>0</th>\n",
       "      <td>2004-07-01</td>\n",
       "      <td>-0.088346</td>\n",
       "      <td>-0.104422</td>\n",
       "      <td>-0.218879</td>\n",
       "    </tr>\n",
       "    <tr>\n",
       "      <th>1</th>\n",
       "      <td>2004-07-02</td>\n",
       "      <td>-0.061914</td>\n",
       "      <td>-0.289470</td>\n",
       "      <td>-0.378581</td>\n",
       "    </tr>\n",
       "    <tr>\n",
       "      <th>2</th>\n",
       "      <td>2004-07-06</td>\n",
       "      <td>0.151545</td>\n",
       "      <td>0.262071</td>\n",
       "      <td>0.421106</td>\n",
       "    </tr>\n",
       "    <tr>\n",
       "      <th>3</th>\n",
       "      <td>2004-07-07</td>\n",
       "      <td>0.862517</td>\n",
       "      <td>1.070785</td>\n",
       "      <td>0.821884</td>\n",
       "    </tr>\n",
       "    <tr>\n",
       "      <th>4</th>\n",
       "      <td>2004-07-08</td>\n",
       "      <td>-0.013028</td>\n",
       "      <td>-0.190429</td>\n",
       "      <td>-0.275630</td>\n",
       "    </tr>\n",
       "    <tr>\n",
       "      <th>...</th>\n",
       "      <td>...</td>\n",
       "      <td>...</td>\n",
       "      <td>...</td>\n",
       "      <td>...</td>\n",
       "    </tr>\n",
       "    <tr>\n",
       "      <th>1886</th>\n",
       "      <td>2011-12-23</td>\n",
       "      <td>-0.238515</td>\n",
       "      <td>-0.189615</td>\n",
       "      <td>-0.314051</td>\n",
       "    </tr>\n",
       "    <tr>\n",
       "      <th>1887</th>\n",
       "      <td>2011-12-27</td>\n",
       "      <td>0.668160</td>\n",
       "      <td>0.854824</td>\n",
       "      <td>1.053921</td>\n",
       "    </tr>\n",
       "    <tr>\n",
       "      <th>1888</th>\n",
       "      <td>2011-12-28</td>\n",
       "      <td>0.384221</td>\n",
       "      <td>0.360378</td>\n",
       "      <td>0.351728</td>\n",
       "    </tr>\n",
       "    <tr>\n",
       "      <th>1889</th>\n",
       "      <td>2011-12-29</td>\n",
       "      <td>0.297588</td>\n",
       "      <td>0.377373</td>\n",
       "      <td>0.302503</td>\n",
       "    </tr>\n",
       "    <tr>\n",
       "      <th>1890</th>\n",
       "      <td>2011-12-30</td>\n",
       "      <td>0.341262</td>\n",
       "      <td>0.290369</td>\n",
       "      <td>0.353582</td>\n",
       "    </tr>\n",
       "  </tbody>\n",
       "</table>\n",
       "<p>1891 rows × 4 columns</p>\n",
       "</div>"
      ],
      "text/plain": [
       "           date   fears25   fears30   fears35\n",
       "0    2004-07-01 -0.088346 -0.104422 -0.218879\n",
       "1    2004-07-02 -0.061914 -0.289470 -0.378581\n",
       "2    2004-07-06  0.151545  0.262071  0.421106\n",
       "3    2004-07-07  0.862517  1.070785  0.821884\n",
       "4    2004-07-08 -0.013028 -0.190429 -0.275630\n",
       "...         ...       ...       ...       ...\n",
       "1886 2011-12-23 -0.238515 -0.189615 -0.314051\n",
       "1887 2011-12-27  0.668160  0.854824  1.053921\n",
       "1888 2011-12-28  0.384221  0.360378  0.351728\n",
       "1889 2011-12-29  0.297588  0.377373  0.302503\n",
       "1890 2011-12-30  0.341262  0.290369  0.353582\n",
       "\n",
       "[1891 rows x 4 columns]"
      ]
     },
     "execution_count": 10,
     "metadata": {},
     "output_type": "execute_result"
    }
   ],
   "source": [
    "fears"
   ]
  },
  {
   "cell_type": "code",
   "execution_count": null,
   "id": "763e28ca-ba6f-4147-852e-7dc51ae87692",
   "metadata": {},
   "outputs": [],
   "source": []
  }
 ],
 "metadata": {
  "kernelspec": {
   "display_name": "Python 3 (ipykernel)",
   "language": "python",
   "name": "python3"
  },
  "language_info": {
   "codemirror_mode": {
    "name": "ipython",
    "version": 3
   },
   "file_extension": ".py",
   "mimetype": "text/x-python",
   "name": "python",
   "nbconvert_exporter": "python",
   "pygments_lexer": "ipython3",
   "version": "3.8.12"
  }
 },
 "nbformat": 4,
 "nbformat_minor": 5
}
