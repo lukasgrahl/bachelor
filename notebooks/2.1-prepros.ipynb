{
 "cells": [
  {
   "cell_type": "code",
   "execution_count": 1,
   "id": "3e290b89-7168-4eeb-a032-eb2fd257260a",
   "metadata": {},
   "outputs": [],
   "source": [
    "%run init_notebook.py"
   ]
  },
  {
   "cell_type": "code",
   "execution_count": 2,
   "id": "b024729b-d937-4f58-a106-66963706e5a9",
   "metadata": {},
   "outputs": [],
   "source": [
    "import pandas as pd\n",
    "import numpy as np"
   ]
  },
  {
   "cell_type": "code",
   "execution_count": 3,
   "id": "4bc0144f-73a4-4348-88c4-17dcf8d2b150",
   "metadata": {},
   "outputs": [],
   "source": [
    "from settings import RAW_DATA_DIR, WORK_DATA_DIR, OUT_DATA_DIR, OUT_MODEL_DIR, random_state\n",
    "from utils.utils import *\n",
    "from utils.load import load_data, save_file, save_model\n",
    "from utils.cast_data import apply_datetime_format, check_datetime_sanity, check_singularity_of_values\n",
    "from utils.plotting import *\n",
    "from src.src import *"
   ]
  },
  {
   "cell_type": "code",
   "execution_count": 4,
   "id": "7c1bf40e-2145-4b12-8862-c4a8c863f0b3",
   "metadata": {},
   "outputs": [],
   "source": [
    "# load data\n",
    "df_all = load_data(file_name=\"merged_data.csv\", file_path=WORK_DATA_DIR)\n",
    "data_dict = load_data(file_name=\"merged_data_dict.pkl\", file_path=WORK_DATA_DIR)\n",
    "\n",
    "df_w = df_all.copy()"
   ]
  },
  {
   "cell_type": "code",
   "execution_count": 5,
   "id": "2d3bad15-713f-48fb-a999-230d8db5d872",
   "metadata": {},
   "outputs": [],
   "source": [
    "# Load data\n",
    "predicted = \"sp_close_lead1\"\n",
    "\n",
    "year_start = 2020\n",
    "year_end = 2021\n",
    "year_spread = f'years{year_end}_{year_start}'"
   ]
  },
  {
   "cell_type": "code",
   "execution_count": 6,
   "id": "49e69b83-abc3-49d5-854a-34f9c5d98071",
   "metadata": {},
   "outputs": [
    {
     "name": "stdout",
     "output_type": "stream",
     "text": [
      "data compromises 2 years: 504 lines\n"
     ]
    }
   ],
   "source": [
    "# training on X years\n",
    "df_w = df_w[(df_w[\"date\"] >= dt.datetime(year=year_start, month=1, day=1).date())\n",
    "            &(df_w[\"date\"] <= dt.datetime(year=year_end, month=12, day=31).date())]\n",
    "print(f'data compromises {year_end - year_start + 1} years: {df_w.shape[0]} lines')"
   ]
  },
  {
   "cell_type": "code",
   "execution_count": 7,
   "id": "e0ef785f-92d6-4492-b2d4-3382ee0eb96d",
   "metadata": {},
   "outputs": [],
   "source": [
    "data_dict[\"model_features\"].update(predicted=predicted)\n",
    "data_dict[\"model_metrics\"].update(year_spread=year_spread)"
   ]
  },
  {
   "cell_type": "markdown",
   "id": "afe5fbe6-906c-4653-a146-b3ee843b25d5",
   "metadata": {},
   "source": [
    "# Select data"
   ]
  },
  {
   "cell_type": "code",
   "execution_count": 8,
   "id": "9a68e853-0dc3-48a9-a0f1-963be072990b",
   "metadata": {},
   "outputs": [],
   "source": [
    "## SELECT COLS INCLUDED HERE\n",
    "# # len daily returns\n",
    "drop_cols = data_dict[\"data\"][\"df_cols\"][\"fears\"] + data_dict[\"data\"][\"df_cols\"][\"goog_sent\"] + data_dict[\"data\"][\"df_cols\"][\"put_call\"] + data_dict[\"data\"][\"df_cols\"][\"naaim_risk\"] + data_dict[\"data\"][\"df_cols\"][\"aaii_bull\"] #+ data_dict[\"data\"][\"df_cols\"][\"cbeo_vix\"] + data_dict[\"data\"][\"df_cols\"][\"termspread\"]\n",
    "\n",
    "# # len 1500\n",
    "# drop_cols = data_dict[\"data\"][\"df_cols\"][\"fears\"] + data_dict[\"data\"][\"df_cols\"][\"goog_sent\"] + data_dict[\"data\"][\"df_cols\"][\"put_call\"] + data_dict[\"data\"][\"df_cols\"][\"naaim_risk\"]\n",
    "\n",
    "# # len 760\n",
    "# drop_cols = data_dict[\"data\"][\"df_cols\"][\"fears\"] + data_dict[\"data\"][\"df_cols\"][\"goog_sent\"] + data_dict[\"data\"][\"df_cols\"][\"put_call\"]\n",
    "\n",
    "# # len 660\n",
    "# drop_cols = data_dict[\"data\"][\"df_cols\"][\"fears\"] + data_dict[\"data\"][\"df_cols\"][\"goog_sent\"]\n",
    "\n",
    "# # len 440\n",
    "# drop_cols = data_dict[\"data\"][\"df_cols\"][\"fears\"]\n",
    "\n",
    "# # len 270\n",
    "# drop_cols = None\n",
    "\n",
    "## DROP COLS\n",
    "if drop_cols != None:\n",
    "    df_w = df_w.drop(drop_cols, axis=1).copy()"
   ]
  },
  {
   "cell_type": "code",
   "execution_count": 9,
   "id": "b627e10f-77c9-4240-928b-d91253c93919",
   "metadata": {},
   "outputs": [],
   "source": [
    "# keep actual sp500 prices\n",
    "data_dict[\"data\"].update(sp_true_vals=\"sp_true_vals\")\n",
    "\n",
    "## preserve actual prices\n",
    "df_w[data_dict[\"data\"][\"sp_true_vals\"]] = df_w[\"sp_close\"]"
   ]
  },
  {
   "cell_type": "code",
   "execution_count": 10,
   "id": "dd1672a9-501f-4e28-ab11-558a82f5c3ac",
   "metadata": {},
   "outputs": [
    {
     "name": "stdout",
     "output_type": "stream",
     "text": [
      "(504, 22)\n"
     ]
    }
   ],
   "source": [
    "## CUT WEEKLY DATA\n",
    "# df_w = cut_to_weekly_data(df_w, 'is_thu')\n",
    "print(df_w.shape)"
   ]
  },
  {
   "cell_type": "code",
   "execution_count": 11,
   "id": "26808061-3b9e-44fc-a49b-7deec8e0fc33",
   "metadata": {},
   "outputs": [],
   "source": [
    "# all sp cols, lags & leads\n",
    "data_dict[\"data\"].update(sp_cols=[item for item in df_w.columns if \"sp_close\" in item])\n",
    "\n",
    "relevant_cols=[\n",
    "    # 'fears35',\n",
    "    # 'fears25',\n",
    "    # 'fears30',\n",
    "    # 'vixo',\n",
    "    # 'naaim_ind',\n",
    "    # 'naaim_max',\n",
    "    # 'naaim_q1',\n",
    "    'ff_M_RF',\n",
    "    'ff_SMB',\n",
    "    'ff_HML',\n",
    "    'ff_RMW',\n",
    "    'ff_CMA',\n",
    "    # 'ff_RF',\n",
    "    # 'termspread',\n",
    "    # 'pc_ratio',\n",
    "    # 'aaii_Bullish',\n",
    "    # 'aaii_Bearish',\n",
    "    # 'aaii_Neutral',\n",
    "    # 'goog_sent'\n",
    "] \n",
    "\n",
    "# relevant cols are features + sp_cols + target col, thus all relevant columns\n",
    "relevant_cols = relevant_cols + data_dict[\"data\"][\"sp_cols\"]\n",
    "\n",
    "data_dict[\"data\"].update(relevant_cols=relevant_cols)"
   ]
  },
  {
   "cell_type": "code",
   "execution_count": 12,
   "id": "7b3ece52-e78f-4ae0-8283-53ed41817709",
   "metadata": {},
   "outputs": [],
   "source": [
    "# sanity check\n",
    "_ = [item for item in data_dict[\"data\"][\"relevant_cols\"] if item not in df_w.columns]\n",
    "assert len(_) == 0, f\"Relevant cols has columns not pertaining to df: {_}\"\n",
    "\n",
    "# datetime sanity\n",
    "check_datetime_sanity(df_w.date)\n",
    "check_singularity_of_values(df_w.date)"
   ]
  },
  {
   "cell_type": "code",
   "execution_count": 13,
   "id": "3c173864-9840-4b21-bbca-1798df67ddde",
   "metadata": {},
   "outputs": [
    {
     "name": "stdout",
     "output_type": "stream",
     "text": [
      "dropped cols: 72\n"
     ]
    }
   ],
   "source": [
    "_ = len(df_w)\n",
    "df_w.dropna(inplace=True)\n",
    "print(f'dropped cols: {_ - len(df_w)}')"
   ]
  },
  {
   "cell_type": "markdown",
   "id": "21eba76a-315f-45bb-8a4f-772490c48dc7",
   "metadata": {},
   "source": [
    "# Transform"
   ]
  },
  {
   "cell_type": "code",
   "execution_count": 14,
   "id": "146181d3-75b5-41de-90f2-0762fdd3ec2f",
   "metadata": {},
   "outputs": [],
   "source": [
    "# ff factor np.log(1 + x)\n",
    "log_trans = [\"vixo\", 'aaii_Bullish', 'aaii_Bearish', 'aaii_Neutral']\n",
    "log_trans3 = ['termspread']\n",
    "log_returns = [] + data_dict[\"data\"][\"sp_cols\"]\n",
    "ff_to_log = [item for item in data_dict['data']['df_cols']['ff_factors5'] if item in df_w.columns]\n",
    "\n",
    "log_trans = [item for item in log_trans if item in df_w.columns]\n",
    "log_trans3 = [item for item in log_trans3 if item in df_w.columns]\n",
    "log_returns = [item for item in log_returns if item in df_w.columns]"
   ]
  },
  {
   "cell_type": "code",
   "execution_count": 15,
   "id": "b8d9ad4b-f564-4c02-a33d-d2d6bef74be1",
   "metadata": {},
   "outputs": [
    {
     "name": "stdout",
     "output_type": "stream",
     "text": [
      "0\n",
      "0\n",
      "1\n",
      "2\n"
     ]
    }
   ],
   "source": [
    "df_w, t_dist, t_log = df_transform(df_w,\n",
    "                                   cols=log_trans,\n",
    "                                   func=arr_log_transform)\n",
    "df_w, t_dist2, t_log3 = df_transform(df_w,\n",
    "                                     cols=log_trans3,\n",
    "                                     func=arr_log_transform,\n",
    "                                     no_logs=3)\n",
    "\n",
    "df_w, r_dist, r_log = df_transform(df_w,\n",
    "                                   cols=log_returns,\n",
    "                                   func=arr_log_return)\n",
    "\n",
    "df_w, t_dist, ff_log = df_transform(df_w,\n",
    "                                   cols=ff_to_log,\n",
    "                                   func=arr_ff_to_log)"
   ]
  },
  {
   "cell_type": "code",
   "execution_count": 16,
   "id": "694dbb9c-ef69-4c00-ae72-a4c11f64fd21",
   "metadata": {},
   "outputs": [
    {
     "name": "stdout",
     "output_type": "stream",
     "text": [
      "{'vixo': True}\n",
      "{'termspread': True}\n",
      "{'sp_close': True}\n",
      "{'ff_M_RF': True, 'ff_SMB': True, 'ff_HML': True, 'ff_RMW': True, 'ff_CMA': True, 'ff_RF': True}\n"
     ]
    }
   ],
   "source": [
    "t_dist.update(r_dist)\n",
    "\n",
    "data_dict[\"data_transformation\"].update(dist_translation=t_dist)\n",
    "data_dict[\"data_transformation\"].update(log_transformation=t_log)\n",
    "data_dict[\"data_transformation\"].update(log_transformation3=t_log3)\n",
    "data_dict[\"data_transformation\"].update(log_returns=r_log)\n",
    "data_dict[\"data_transformation\"].update(ff_to_log=ff_log)\n",
    "\n",
    "print(data_dict[\"data_transformation\"][\"log_transformation\"])\n",
    "print(data_dict[\"data_transformation\"][\"log_transformation3\"])\n",
    "print(data_dict['data_transformation']['log_returns'])\n",
    "print(data_dict['data_transformation']['ff_to_log'])"
   ]
  },
  {
   "cell_type": "code",
   "execution_count": 17,
   "id": "02c41e03-a449-40d2-a9da-04a41c9fe62f",
   "metadata": {},
   "outputs": [
    {
     "data": {
      "text/plain": [
       "{'ff_M_RF': None,\n",
       " 'ff_SMB': None,\n",
       " 'ff_HML': None,\n",
       " 'ff_RMW': None,\n",
       " 'ff_CMA': None,\n",
       " 'ff_RF': None,\n",
       " 'sp_close': False}"
      ]
     },
     "execution_count": 17,
     "metadata": {},
     "output_type": "execute_result"
    }
   ],
   "source": [
    "data_dict[\"data_transformation\"]['dist_translation']"
   ]
  },
  {
   "cell_type": "markdown",
   "id": "58b6ef78-f791-46e9-81b4-5e74567dc800",
   "metadata": {},
   "source": [
    "# Stats Test"
   ]
  },
  {
   "cell_type": "code",
   "execution_count": 18,
   "id": "d27e6fa2-e837-451d-b9ea-d18ec373fd38",
   "metadata": {},
   "outputs": [],
   "source": [
    "# test normality & stationarity\n",
    "# siginficance at 5%\n",
    "stest = StatsTest(plot=False, print_results=False)"
   ]
  },
  {
   "cell_type": "code",
   "execution_count": 19,
   "id": "28011c3b-af8a-4515-b073-55f944eface2",
   "metadata": {},
   "outputs": [
    {
     "data": {
      "text/plain": [
       "{'ff_M_RF': True,\n",
       " 'ff_SMB': True,\n",
       " 'ff_HML': True,\n",
       " 'ff_RMW': True,\n",
       " 'ff_CMA': True,\n",
       " 'sp_close': True}"
      ]
     },
     "execution_count": 19,
     "metadata": {},
     "output_type": "execute_result"
    }
   ],
   "source": [
    "# test data for stationarity\n",
    "stationarity = stest.df_test_stationarity(df_w, [item for item in data_dict[\"data\"][\"relevant_cols\"]])\n",
    "data_dict[\"data_stests\"].update(stationarity=stationarity)\n",
    "stationarity"
   ]
  },
  {
   "cell_type": "code",
   "execution_count": 20,
   "id": "a78c7917-9543-4f17-a41a-7d20c232752c",
   "metadata": {},
   "outputs": [
    {
     "data": {
      "text/plain": [
       "{'ff_M_RF': False,\n",
       " 'ff_SMB': False,\n",
       " 'ff_HML': False,\n",
       " 'ff_RMW': True,\n",
       " 'ff_CMA': False,\n",
       " 'sp_close': False}"
      ]
     },
     "execution_count": 20,
     "metadata": {},
     "output_type": "execute_result"
    }
   ],
   "source": [
    "# test data for normality\n",
    "normality = stest.df_test_normality(df_w, cols=data_dict[\"data\"][\"relevant_cols\"])\n",
    "data_dict[\"data_stests\"].update(normality=normality)\n",
    "normality"
   ]
  },
  {
   "cell_type": "code",
   "execution_count": 21,
   "id": "77700db7-03ac-4e29-afc8-f12f87369ca3",
   "metadata": {},
   "outputs": [
    {
     "data": {
      "text/plain": [
       "False"
      ]
     },
     "execution_count": 21,
     "metadata": {},
     "output_type": "execute_result"
    }
   ],
   "source": [
    "# test sp_close for zero_mean\n",
    "stest.arr_ttest_1samp(df_w.sp_close, 0)"
   ]
  },
  {
   "cell_type": "markdown",
   "id": "99c0bbce-bf1b-4e78-956e-258513f5ce0f",
   "metadata": {},
   "source": [
    "# Lags"
   ]
  },
  {
   "cell_type": "code",
   "execution_count": 22,
   "id": "d501b165-467f-4158-8b99-c56409e7b73d",
   "metadata": {},
   "outputs": [],
   "source": [
    "from statsmodels.tsa.stattools import adfuller"
   ]
  },
  {
   "cell_type": "code",
   "execution_count": 23,
   "id": "85bd2ce3-7251-4657-b32b-ca8e3da07034",
   "metadata": {},
   "outputs": [],
   "source": [
    "df_w, _ = shift_var_relative_to_df(df_w, \"sp_close\", no_lags=[-1, 1, 2, 3, 4, 5, 6, 7, 8, 9, 10, 11, 12, 13, 14, 15])"
   ]
  },
  {
   "cell_type": "code",
   "execution_count": 24,
   "id": "a3e93437-416d-4d7f-a3e0-15e054078717",
   "metadata": {},
   "outputs": [
    {
     "data": {
      "image/png": "[encoded data removed]",
      "text/plain": [
       "<Figure size 720x216 with 1 Axes>"
      ]
     },
     "metadata": {},
     "output_type": "display_data"
    },
    {
     "data": {
      "image/png": "[encoded data removed]",
      "text/plain": [
       "<Figure size 720x216 with 1 Axes>"
      ]
     },
     "metadata": {},
     "output_type": "display_data"
    },
    {
     "data": {
      "image/png": "[encoded data removed]",
      "text/plain": [
       "<Figure size 720x216 with 1 Axes>"
      ]
     },
     "metadata": {},
     "output_type": "display_data"
    },
    {
     "data": {
      "image/png": "[encoded data removed]",
      "text/plain": [
       "<Figure size 720x216 with 1 Axes>"
      ]
     },
     "metadata": {},
     "output_type": "display_data"
    },
    {
     "data": {
      "image/png": "[encoded data removed]",
      "text/plain": [
       "<Figure size 720x216 with 1 Axes>"
      ]
     },
     "metadata": {},
     "output_type": "display_data"
    }
   ],
   "source": [
    "df_cross_corr(df_w,\n",
    "              [item for item in data_dict[\"data\"][\"relevant_cols\"] if item not in data_dict[\"data\"][\"sp_cols\"]],\n",
    "              predicted,\n",
    "              show_plot=True,\n",
    "              no_lags=40,\n",
    "              figsize=(10, 3));"
   ]
  },
  {
   "cell_type": "code",
   "execution_count": 25,
   "id": "16309682-d609-4fb1-b58e-caa789165b29",
   "metadata": {},
   "outputs": [
    {
     "data": {
      "image/png": "[encoded data removed]",
      "text/plain": [
       "<Figure size 576x396 with 1 Axes>"
      ]
     },
     "metadata": {},
     "output_type": "display_data"
    }
   ],
   "source": [
    "auto_corr(df_w.sp_close, no_lags=30, partial=False);"
   ]
  },
  {
   "cell_type": "code",
   "execution_count": 26,
   "id": "2f85885e-2715-4bff-809d-6f73596f4084",
   "metadata": {},
   "outputs": [
    {
     "data": {
      "image/png": "[encoded data removed]",
      "text/plain": [
       "<Figure size 576x396 with 1 Axes>"
      ]
     },
     "metadata": {},
     "output_type": "display_data"
    }
   ],
   "source": [
    "auto_corr(df_w.sp_close, no_lags=50, partial=True);"
   ]
  },
  {
   "cell_type": "code",
   "execution_count": 27,
   "id": "7fa36618-a8c7-4ace-87ef-d5b91ca063bb",
   "metadata": {},
   "outputs": [],
   "source": [
    "df_w, _ = shift_var_relative_to_df(df_w, \"termspread\", no_lags=[1, 2, 3, 4, 5, 6, 7, 8, 9, 10, 11, 12, 13, 14, 15])\n",
    "df_w, _ = shift_var_relative_to_df(df_w, \"ff_M_RF\", no_lags=[1, 2, 3, 4, 5, 6, 7, 8, 9])\n",
    "df_w, _ = shift_var_relative_to_df(df_w, \"vixo\", no_lags=[1, 2, 3, 4, 5, 6, 7, 8, 9, 10, 11, 12, 13, 14, 15, 16, 17, 18, 19, 20])\n",
    "df_w.dropna(inplace=True)"
   ]
  },
  {
   "cell_type": "code",
   "execution_count": 28,
   "id": "ca8708ad-0300-43eb-8db5-fd919c21aebe",
   "metadata": {},
   "outputs": [],
   "source": [
    "data_dict[\"data\"].update(sp_cols=[item for item in df_w.columns if \"sp_close\" in item])\n",
    "\n",
    "_ = list(set(data_dict['data']['relevant_cols'] + [item for item in list(df_w.columns) if \"ff\" in item] + \n",
    "             [item for item in list(df_w.columns) if \"term\" in item] + \n",
    "             [item for item in list(df_w.columns) if \"vixo\" in item]))\n",
    "_.sort()\n",
    "data_dict['data']['relevant_cols'] = _"
   ]
  },
  {
   "cell_type": "code",
   "execution_count": 29,
   "id": "09a6dcc2-e6db-430b-ab41-a1072c06d7c4",
   "metadata": {},
   "outputs": [
    {
     "data": {
      "text/plain": [
       "['ff_CMA',\n",
       " 'ff_HML',\n",
       " 'ff_M_RF',\n",
       " 'ff_M_RF_lag1',\n",
       " 'ff_M_RF_lag2',\n",
       " 'ff_M_RF_lag3',\n",
       " 'ff_M_RF_lag4',\n",
       " 'ff_M_RF_lag5',\n",
       " 'ff_M_RF_lag6',\n",
       " 'ff_M_RF_lag7',\n",
       " 'ff_M_RF_lag8',\n",
       " 'ff_M_RF_lag9',\n",
       " 'ff_RF',\n",
       " 'ff_RMW',\n",
       " 'ff_SMB',\n",
       " 'sp_close',\n",
       " 'termspread',\n",
       " 'termspread_lag1',\n",
       " 'termspread_lag10',\n",
       " 'termspread_lag11',\n",
       " 'termspread_lag12',\n",
       " 'termspread_lag13',\n",
       " 'termspread_lag14',\n",
       " 'termspread_lag15',\n",
       " 'termspread_lag2',\n",
       " 'termspread_lag3',\n",
       " 'termspread_lag4',\n",
       " 'termspread_lag5',\n",
       " 'termspread_lag6',\n",
       " 'termspread_lag7',\n",
       " 'termspread_lag8',\n",
       " 'termspread_lag9',\n",
       " 'vixo',\n",
       " 'vixo_lag1',\n",
       " 'vixo_lag10',\n",
       " 'vixo_lag11',\n",
       " 'vixo_lag12',\n",
       " 'vixo_lag13',\n",
       " 'vixo_lag14',\n",
       " 'vixo_lag15',\n",
       " 'vixo_lag16',\n",
       " 'vixo_lag17',\n",
       " 'vixo_lag18',\n",
       " 'vixo_lag19',\n",
       " 'vixo_lag2',\n",
       " 'vixo_lag20',\n",
       " 'vixo_lag3',\n",
       " 'vixo_lag4',\n",
       " 'vixo_lag5',\n",
       " 'vixo_lag6',\n",
       " 'vixo_lag7',\n",
       " 'vixo_lag8',\n",
       " 'vixo_lag9']"
      ]
     },
     "execution_count": 29,
     "metadata": {},
     "output_type": "execute_result"
    }
   ],
   "source": [
    "data_dict['data']['relevant_cols'] "
   ]
  },
  {
   "cell_type": "markdown",
   "id": "a6071f00-3a6e-4770-82e1-e18e93404391",
   "metadata": {},
   "source": [
    "# Feature Eng"
   ]
  },
  {
   "cell_type": "code",
   "execution_count": 30,
   "id": "2037fce3-28f6-4501-9f91-4a2b4b2a055e",
   "metadata": {},
   "outputs": [],
   "source": [
    "df_w[\"weekday\"] = is_day(df_w.date)"
   ]
  },
  {
   "cell_type": "code",
   "execution_count": 31,
   "id": "69055b7e-b30d-41e3-bb72-8b48b4886bfe",
   "metadata": {},
   "outputs": [],
   "source": [
    "df_w = pd.concat([df_w,\n",
    "                  pd.get_dummies(df_w.weekday).add_prefix(\"weekday_\")],\n",
    "                 axis=1)"
   ]
  },
  {
   "cell_type": "markdown",
   "id": "90574279-b574-4f6d-ba5f-3337062eef91",
   "metadata": {},
   "source": [
    "# Saving"
   ]
  },
  {
   "cell_type": "code",
   "execution_count": 32,
   "id": "d1e98d7c-cc5b-4cd0-81a7-b61cebf296b4",
   "metadata": {},
   "outputs": [
    {
     "name": "stdout",
     "output_type": "stream",
     "text": [
      "Saving as df_daily_8055\n"
     ]
    }
   ],
   "source": [
    "if drop_cols == ['fears25', 'fears30', 'fears35', 'goog_sent']:\n",
    "    print(\"Saving as df_weekly_660\")\n",
    "    save_file(df_w, file_name=\"df_weekly_660.csv\", file_path=WORK_DATA_DIR, index=False)\n",
    "    save_file(data_dict, file_name=\"dict_weekly_660.pkl\", file_path=WORK_DATA_DIR, index=False)\n",
    "    \n",
    "elif drop_cols == None:\n",
    "    print(\"Saving as df_weekly_270\")\n",
    "    save_file(df_w, file_name=\"df_weekly_270.csv\", file_path=WORK_DATA_DIR, index=False)\n",
    "    save_file(data_dict, file_name=\"dict_weekly_270.pkl\", file_path=WORK_DATA_DIR, index=False)\n",
    "\n",
    "elif drop_cols == data_dict[\"data\"][\"df_cols\"][\"fears\"] + data_dict[\"data\"][\"df_cols\"][\"goog_sent\"] + data_dict[\"data\"][\"df_cols\"][\"put_call\"]:\n",
    "    print(\"Saving as df_weekly_760\")\n",
    "    save_file(df_w, file_name=\"df_weekly_760.csv\", file_path=WORK_DATA_DIR, index=False)\n",
    "    save_file(data_dict, file_name=\"dict_weekly_760.pkl\", file_path=WORK_DATA_DIR, index=False)\n",
    "    \n",
    "elif drop_cols == ['fears25', 'fears30', 'fears35']:\n",
    "    print(\"Saving as df_weekly_440\")\n",
    "    save_file(df_w, file_name=\"df_weekly_440.csv\", file_path=WORK_DATA_DIR, index=False)\n",
    "    save_file(data_dict, file_name=\"dict_weekly_440.pkl\", file_path=WORK_DATA_DIR, index=False)\n",
    "    \n",
    "elif drop_cols == ['fears25',\n",
    "                 'fears30',\n",
    "                 'fears35',\n",
    "                 'goog_sent',\n",
    "                 'Call',\n",
    "                 'Put',\n",
    "                 'Total',\n",
    "                 'pc_ratio',\n",
    "                 'Mean/Average',\n",
    "                 'naaim_max',\n",
    "                 'naaim_q1',\n",
    "                 'Quart 2 (median)',\n",
    "                 'Quart 3 (25% at/above)',\n",
    "                 'Most Bullish Response',\n",
    "                 'naaim_std',\n",
    "                 'naaim_ind',\n",
    "                 'S&P 500']:\n",
    "    print(\"Saving as df_weekly_1560\")\n",
    "    save_file(df_w, file_name=\"df_weekly_1560.csv\", file_path=WORK_DATA_DIR, index=False)\n",
    "    save_file(data_dict, file_name=\"dict_weekly_1560.pkl\", file_path=WORK_DATA_DIR, index=False)\n",
    "    \n",
    "elif drop_cols == data_dict[\"data\"][\"df_cols\"][\"fears\"] + data_dict[\"data\"][\"df_cols\"][\"goog_sent\"] + data_dict[\"data\"][\"df_cols\"][\"put_call\"] + data_dict[\"data\"][\"df_cols\"][\"naaim_risk\"]:\n",
    "    print(\"Saving as df_weekly_1560\")\n",
    "    save_file(df_w, file_name=\"df_weekly_1560.csv\", file_path=WORK_DATA_DIR, index=False)\n",
    "    save_file(data_dict, file_name=\"dict_weekly_1560.pkl\", file_path=WORK_DATA_DIR, index=False)\n",
    "    \n",
    "elif drop_cols == data_dict[\"data\"][\"df_cols\"][\"fears\"] + data_dict[\"data\"][\"df_cols\"][\"goog_sent\"] + data_dict[\"data\"][\"df_cols\"][\"put_call\"] + data_dict[\"data\"][\"df_cols\"][\"naaim_risk\"] + data_dict[\"data\"][\"df_cols\"][\"aaii_bull\"]: #+ data_dict[\"data\"][\"df_cols\"][\"cbeo_vix\"] + data_dict[\"data\"][\"df_cols\"][\"termspread\"]:\n",
    "    print(\"Saving as df_daily_8055\")\n",
    "    save_file(df_w, file_name=\"df_daily_8055.csv\", file_path=WORK_DATA_DIR, index=False)\n",
    "    save_file(data_dict, file_name=\"dict_daily_8055.pkl\", file_path=WORK_DATA_DIR, index=False)"
   ]
  },
  {
   "cell_type": "code",
   "execution_count": null,
   "id": "70a84b1a-6962-426d-a120-1e401d09eb8f",
   "metadata": {},
   "outputs": [],
   "source": []
  }
 ],
 "metadata": {
  "kernelspec": {
   "display_name": "bachelor_env",
   "language": "python",
   "name": "bachelor_env"
  },
  "language_info": {
   "codemirror_mode": {
    "name": "ipython",
    "version": 3
   },
   "file_extension": ".py",
   "mimetype": "text/x-python",
   "name": "python",
   "nbconvert_exporter": "python",
   "pygments_lexer": "ipython3",
   "version": "3.9.4"
  }
 },
 "nbformat": 4,
 "nbformat_minor": 5
}
